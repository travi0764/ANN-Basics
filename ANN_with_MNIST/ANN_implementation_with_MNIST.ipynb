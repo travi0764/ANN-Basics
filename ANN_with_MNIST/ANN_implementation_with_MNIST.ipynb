{
 "cells": [
  {
   "cell_type": "code",
   "execution_count": 3,
   "metadata": {
    "colab": {
     "base_uri": "https://localhost:8080/"
    },
    "id": "M-TrGt_SCpXK",
    "outputId": "397bd019-b8e2-4647-97c2-653d3d6be262"
   },
   "outputs": [
    {
     "name": "stdout",
     "output_type": "stream",
     "text": [
      "2.8.2\n",
      "2.8.0\n"
     ]
    }
   ],
   "source": [
    "import tensorflow as tf\n",
    "print(tf.__version__)\n",
    "print(tf.keras.__version__)"
   ]
  },
  {
   "cell_type": "code",
   "execution_count": 4,
   "metadata": {
    "colab": {
     "base_uri": "https://localhost:8080/"
    },
    "id": "-vP1G8mTEhV7",
    "outputId": "d2f5842f-1ec8-411f-c5d0-80647c8c0639"
   },
   "outputs": [
    {
     "data": {
      "text/plain": [
       "[PhysicalDevice(name='/physical_device:GPU:0', device_type='GPU')]"
      ]
     },
     "execution_count": 4,
     "metadata": {},
     "output_type": "execute_result"
    }
   ],
   "source": [
    "# to check GPU is present or not\n",
    "tf.config.list_physical_devices(\"GPU\")"
   ]
  },
  {
   "cell_type": "code",
   "execution_count": 5,
   "metadata": {
    "id": "fliQJKQSFMWN"
   },
   "outputs": [],
   "source": [
    "#importing libraries\n",
    "import pandas as pd\n",
    "import numpy as np\n",
    "import matplotlib.pyplot as plt\n",
    "import seaborn as sns"
   ]
  },
  {
   "cell_type": "code",
   "execution_count": 6,
   "metadata": {
    "id": "g3V1saGrFcAz"
   },
   "outputs": [],
   "source": [
    "#importing mnist data from tensorflow datasets\n",
    "mnist = tf.keras.datasets.mnist"
   ]
  },
  {
   "cell_type": "code",
   "execution_count": 10,
   "metadata": {
    "id": "W7H42D2IFtUM"
   },
   "outputs": [],
   "source": [
    "(X_train_full,y_train_full),(X_test,y_test) = mnist.load_data()"
   ]
  },
  {
   "cell_type": "code",
   "execution_count": 11,
   "metadata": {
    "colab": {
     "base_uri": "https://localhost:8080/"
    },
    "id": "gn__dzqmGD-b",
    "outputId": "5298943b-516f-4dd9-f185-fd616a40f22a"
   },
   "outputs": [
    {
     "data": {
      "text/plain": [
       "(60000, 28, 28)"
      ]
     },
     "execution_count": 11,
     "metadata": {},
     "output_type": "execute_result"
    }
   ],
   "source": [
    "X_train_full.shape"
   ]
  },
  {
   "cell_type": "code",
   "execution_count": 13,
   "metadata": {
    "colab": {
     "base_uri": "https://localhost:8080/"
    },
    "id": "wE7I52k1GHXh",
    "outputId": "a7889a92-f570-4d77-cea6-df70e178fb45"
   },
   "outputs": [
    {
     "data": {
      "text/plain": [
       "(28, 28)"
      ]
     },
     "execution_count": 13,
     "metadata": {},
     "output_type": "execute_result"
    }
   ],
   "source": [
    "X_train_full[0].shape"
   ]
  },
  {
   "cell_type": "code",
   "execution_count": 14,
   "metadata": {
    "colab": {
     "base_uri": "https://localhost:8080/",
     "height": 248
    },
    "id": "mIjnR4RjGKca",
    "outputId": "d1204844-aaeb-4739-9269-a45b53955b4c"
   },
   "outputs": [
    {
     "data": {
      "image/png": "[encoded data removed]",
      "text/plain": [
       "<Figure size 432x288 with 1 Axes>"
      ]
     },
     "metadata": {
      "needs_background": "light"
     },
     "output_type": "display_data"
    }
   ],
   "source": [
    "plt.imshow(X_train_full[0])\n",
    "plt.axis(\"off\")\n",
    "plt.show()"
   ]
  },
  {
   "cell_type": "code",
   "execution_count": 15,
   "metadata": {
    "colab": {
     "base_uri": "https://localhost:8080/",
     "height": 248
    },
    "id": "C3zUpH-_Ga0A",
    "outputId": "84c89451-4035-4861-de08-290d45568314"
   },
   "outputs": [
    {
     "data": {
      "image/png": "[encoded data removed]",
      "text/plain": [
       "<Figure size 432x288 with 1 Axes>"
      ]
     },
     "metadata": {
      "needs_background": "light"
     },
     "output_type": "display_data"
    }
   ],
   "source": [
    "img = X_train_full[0]\n",
    "\n",
    "plt.imshow(img, cmap=\"binary\")     # binary is used to represent image in B&W\n",
    "plt.axis(\"off\")\n",
    "plt.show()"
   ]
  },
  {
   "cell_type": "code",
   "execution_count": 18,
   "metadata": {
    "colab": {
     "base_uri": "https://localhost:8080/"
    },
    "id": "BfM-WH6PGhM9",
    "outputId": "6eea3c37-7e1d-451c-ad17-c69f3a5780e4"
   },
   "outputs": [
    {
     "data": {
      "text/plain": [
       "(255, 0)"
      ]
     },
     "execution_count": 18,
     "metadata": {},
     "output_type": "execute_result"
    }
   ],
   "source": [
    "X_train_full.max(), X_train_full.min()"
   ]
  },
  {
   "cell_type": "code",
   "execution_count": 20,
   "metadata": {
    "id": "2R4NEGUUGzGy"
   },
   "outputs": [],
   "source": [
    "X_valid, X_train = X_train_full[:5000] / 255, X_train_full[5000:] / 255\n",
    "y_valid, y_train = y_train_full[:5000], y_train_full[5000:]\n",
    "\n",
    "X_test = X_test / 255"
   ]
  },
  {
   "cell_type": "code",
   "execution_count": 23,
   "metadata": {
    "id": "vwYEuWvPHjKD"
   },
   "outputs": [],
   "source": [
    "LAYERS = [\n",
    "    tf.keras.layers.Flatten(input_shape = [28,28], name = \"inputLayer\"),\n",
    "    tf.keras.layers.Dense(300, activation = \"relu\", name = \"hiddenLayer1\"),\n",
    "    tf.keras.layers.Dense(100, activation = \"relu\", name = \"hiddenLayer2\"),\n",
    "    tf.keras.layers.Dense(10, activation = \"softmax\", name = \"outputLayer\")\n",
    "]"
   ]
  },
  {
   "cell_type": "code",
   "execution_count": 24,
   "metadata": {
    "id": "qhB7DuanIcQW"
   },
   "outputs": [],
   "source": [
    "clf_model = tf.keras.models.Sequential(LAYERS)"
   ]
  },
  {
   "cell_type": "code",
   "execution_count": 25,
   "metadata": {
    "colab": {
     "base_uri": "https://localhost:8080/"
    },
    "id": "HET1bW13IqrK",
    "outputId": "743a7072-114e-4710-a70e-0cbf4c30e1c7"
   },
   "outputs": [
    {
     "data": {
      "text/plain": [
       "[<keras.layers.core.flatten.Flatten at 0x7fc062bda310>,\n",
       " <keras.layers.core.dense.Dense at 0x7fc062dbc890>,\n",
       " <keras.layers.core.dense.Dense at 0x7fc062c5dad0>,\n",
       " <keras.layers.core.dense.Dense at 0x7fc062b40390>]"
      ]
     },
     "execution_count": 25,
     "metadata": {},
     "output_type": "execute_result"
    }
   ],
   "source": [
    "clf_model.layers"
   ]
  },
  {
   "cell_type": "code",
   "execution_count": 26,
   "metadata": {
    "colab": {
     "base_uri": "https://localhost:8080/"
    },
    "id": "QFGzEI18JL6t",
    "outputId": "6af02b5c-5875-474e-adea-e86134ee2fbd"
   },
   "outputs": [
    {
     "name": "stdout",
     "output_type": "stream",
     "text": [
      "Model: \"sequential\"\n",
      "_________________________________________________________________\n",
      " Layer (type)                Output Shape              Param #   \n",
      "=================================================================\n",
      " inputLayer (Flatten)        (None, 784)               0         \n",
      "                                                                 \n",
      " hiddenLayer1 (Dense)        (None, 300)               235500    \n",
      "                                                                 \n",
      " hiddenLayer2 (Dense)        (None, 100)               30100     \n",
      "                                                                 \n",
      " outputLayer (Dense)         (None, 10)                1010      \n",
      "                                                                 \n",
      "=================================================================\n",
      "Total params: 266,610\n",
      "Trainable params: 266,610\n",
      "Non-trainable params: 0\n",
      "_________________________________________________________________\n"
     ]
    }
   ],
   "source": [
    "clf_model.summary()"
   ]
  },
  {
   "cell_type": "markdown",
   "metadata": {
    "id": "ZQfuiyCrJqoF"
   },
   "source": [
    "total trainable parameters = first_layer*second_layer + bias = = 784*300 + 300(bias) = 235500"
   ]
  },
  {
   "cell_type": "code",
   "execution_count": 27,
   "metadata": {
    "colab": {
     "base_uri": "https://localhost:8080/"
    },
    "id": "Cvv-duTVJQf0",
    "outputId": "e57ccaac-ac6a-4174-ec21-82b2fdf882e1"
   },
   "outputs": [
    {
     "data": {
      "text/plain": [
       "266610"
      ]
     },
     "execution_count": 27,
     "metadata": {},
     "output_type": "execute_result"
    }
   ],
   "source": [
    "235500+30100+1010"
   ]
  },
  {
   "cell_type": "code",
   "execution_count": 29,
   "metadata": {
    "colab": {
     "base_uri": "https://localhost:8080/"
    },
    "id": "bAHlGUGcJ2Hj",
    "outputId": "7aad0913-76b8-4a09-f4e4-21d8462dc130"
   },
   "outputs": [
    {
     "data": {
      "text/plain": [
       "(784, 300)"
      ]
     },
     "execution_count": 29,
     "metadata": {},
     "output_type": "execute_result"
    }
   ],
   "source": [
    "weights, biases = clf_model.layers[1].get_weights()\n",
    "weights.shape"
   ]
  },
  {
   "cell_type": "code",
   "execution_count": 30,
   "metadata": {
    "colab": {
     "base_uri": "https://localhost:8080/"
    },
    "id": "JBagVZQgKDiS",
    "outputId": "d6abdefc-3626-4b71-e4a1-f65eedab5972"
   },
   "outputs": [
    {
     "data": {
      "text/plain": [
       "array([ 0.07291105,  0.01218582,  0.05201636,  0.04522216,  0.04246096,\n",
       "        0.03177147,  0.04057445,  0.07342237,  0.00749827, -0.03724011,\n",
       "       -0.04875146, -0.03247239, -0.07034075, -0.06865149, -0.02679498,\n",
       "        0.00949114, -0.03116161,  0.06892793,  0.03576012, -0.00026202,\n",
       "       -0.01206302, -0.05262216, -0.01639274, -0.03963816, -0.05738518,\n",
       "        0.06525372, -0.01287834,  0.01879185,  0.00571955,  0.00352911,\n",
       "       -0.07228949, -0.03560278, -0.05224103,  0.07158056, -0.0463361 ,\n",
       "       -0.02072335,  0.06108007, -0.04642598,  0.0669425 ,  0.06494968,\n",
       "        0.03724811,  0.00445279, -0.02535289, -0.01442616, -0.05667404,\n",
       "       -0.04226594,  0.06297988, -0.06338762, -0.05970867,  0.05067995,\n",
       "       -0.01940851, -0.0264453 ,  0.04013408,  0.02159302, -0.025756  ,\n",
       "       -0.02699434, -0.00783908,  0.02578983, -0.05668399,  0.04418127,\n",
       "       -0.01209892,  0.01575755, -0.05513565,  0.03404946,  0.01256622,\n",
       "       -0.05583325, -0.07326346,  0.00663607, -0.01272434, -0.0099467 ,\n",
       "       -0.00587778, -0.00987578, -0.01290237,  0.05082972, -0.00037656,\n",
       "        0.03756553,  0.02663105, -0.03396265, -0.04022131, -0.03172651,\n",
       "        0.05104195,  0.04953735,  0.00827361, -0.03183638,  0.07318485,\n",
       "        0.00448009,  0.00295167,  0.0420451 , -0.05865481, -0.03847892,\n",
       "        0.00750783, -0.02934547,  0.02073523, -0.04765978,  0.00527017,\n",
       "        0.06131457, -0.00318889, -0.05009225, -0.06094322,  0.01365868,\n",
       "       -0.00055933, -0.07132148, -0.01282709,  0.01942284,  0.03486069,\n",
       "       -0.03327779,  0.00093682, -0.04503934,  0.00141844, -0.03724352,\n",
       "        0.00210176,  0.00752051,  0.05949832, -0.03855598,  0.05017117,\n",
       "        0.02761931,  0.01435917, -0.07041114,  0.02635486,  0.05405131,\n",
       "       -0.03776496,  0.00731951, -0.01067631, -0.00851181,  0.03454678,\n",
       "        0.06690353, -0.07171404, -0.06946592, -0.01001027,  0.00055791,\n",
       "       -0.07077201,  0.04949737,  0.05268611,  0.02421568,  0.01316073,\n",
       "        0.02314328, -0.07426409, -0.03545118,  0.01368133, -0.03231562,\n",
       "        0.03973985, -0.03603562,  0.03201395, -0.02029931,  0.02078075,\n",
       "        0.056062  ,  0.06523009, -0.00400052,  0.00422709, -0.06106636,\n",
       "       -0.06253023, -0.0158738 ,  0.06292889,  0.04416326,  0.01542768,\n",
       "        0.00600059, -0.06300225,  0.01953667,  0.00758657, -0.01591788,\n",
       "       -0.04060047,  0.01254174, -0.04799626, -0.03279263, -0.04340923,\n",
       "       -0.06109809, -0.03906634, -0.02181749,  0.01611999, -0.0073589 ,\n",
       "       -0.05347612, -0.03164733,  0.04401889,  0.0650869 ,  0.02763389,\n",
       "        0.05894013,  0.03427573,  0.04930788,  0.05364881, -0.0535269 ,\n",
       "        0.06185238, -0.02320924, -0.05678467, -0.0691684 ,  0.01192234,\n",
       "       -0.02049267, -0.06723174, -0.06261005, -0.01458972, -0.05832992,\n",
       "       -0.04518075, -0.06430373, -0.06546412,  0.02651472, -0.05091502,\n",
       "       -0.02088584,  0.04200248, -0.02793192, -0.03714374, -0.0005809 ,\n",
       "       -0.06274271,  0.02427778,  0.05565928, -0.03345351, -0.05977   ,\n",
       "        0.07173634, -0.04571242,  0.00212606,  0.06815846, -0.02857419,\n",
       "       -0.01224288, -0.05035312,  0.05518885, -0.00081412, -0.02424259,\n",
       "        0.06504902,  0.01256938,  0.01449153, -0.0280593 , -0.02307533,\n",
       "       -0.04625949,  0.06856401, -0.00689073, -0.00950252, -0.05508189,\n",
       "       -0.02148863,  0.05570967, -0.01495307, -0.0726879 ,  0.05771378,\n",
       "       -0.06750878, -0.03046037,  0.00325532,  0.04241834,  0.02358267,\n",
       "        0.06339459,  0.05108944, -0.0730213 , -0.04870848,  0.07090613,\n",
       "       -0.06556644, -0.00911137, -0.06790253,  0.02121484,  0.02876376,\n",
       "       -0.04900928, -0.06124329,  0.00407174, -0.06396373,  0.05340056,\n",
       "       -0.07209104,  0.03484254, -0.04171776,  0.03689122, -0.05154028,\n",
       "       -0.0346598 ,  0.04448561,  0.05244422,  0.06535307, -0.07166618,\n",
       "       -0.02033013,  0.05855125,  0.05831277,  0.00168969,  0.04246799,\n",
       "       -0.04858233, -0.00282887, -0.03968582,  0.07036868, -0.0131197 ,\n",
       "       -0.05752416,  0.03991012,  0.01263899,  0.02125027, -0.03999462,\n",
       "        0.06846769,  0.0657355 , -0.05919369, -0.00985248, -0.05546155,\n",
       "        0.04530425, -0.05053689,  0.03266027,  0.03101714, -0.04677147,\n",
       "       -0.06707632, -0.04299422,  0.01032854, -0.05933484, -0.05146067,\n",
       "       -0.05488821,  0.0033339 ,  0.07159804,  0.04861672,  0.04363757,\n",
       "        0.00403596,  0.05152677, -0.02786681, -0.03961343,  0.06780426],\n",
       "      dtype=float32)"
      ]
     },
     "execution_count": 30,
     "metadata": {},
     "output_type": "execute_result"
    }
   ],
   "source": [
    "weights[0]"
   ]
  },
  {
   "cell_type": "code",
   "execution_count": 31,
   "metadata": {
    "colab": {
     "base_uri": "https://localhost:8080/"
    },
    "id": "ODO0U7CVKJ2J",
    "outputId": "e92d1e95-d5ec-4838-8f9b-51f0a9040300"
   },
   "outputs": [
    {
     "data": {
      "text/plain": [
       "(300,)"
      ]
     },
     "execution_count": 31,
     "metadata": {},
     "output_type": "execute_result"
    }
   ],
   "source": [
    "biases.shape"
   ]
  },
  {
   "cell_type": "code",
   "execution_count": 33,
   "metadata": {
    "colab": {
     "base_uri": "https://localhost:8080/"
    },
    "id": "8gUDsxa9KN_y",
    "outputId": "8c0275c7-64ad-48a6-d0cc-bbfa13c2b1ca"
   },
   "outputs": [
    {
     "data": {
      "text/plain": [
       "array([0., 0., 0., 0., 0., 0., 0., 0., 0., 0., 0., 0., 0., 0., 0., 0., 0.,\n",
       "       0., 0., 0., 0., 0., 0., 0., 0., 0., 0., 0., 0., 0., 0., 0., 0., 0.,\n",
       "       0., 0., 0., 0., 0., 0., 0., 0., 0., 0., 0., 0., 0., 0., 0., 0., 0.,\n",
       "       0., 0., 0., 0., 0., 0., 0., 0., 0., 0., 0., 0., 0., 0., 0., 0., 0.,\n",
       "       0., 0., 0., 0., 0., 0., 0., 0., 0., 0., 0., 0., 0., 0., 0., 0., 0.,\n",
       "       0., 0., 0., 0., 0., 0., 0., 0., 0., 0., 0., 0., 0., 0., 0., 0., 0.,\n",
       "       0., 0., 0., 0., 0., 0., 0., 0., 0., 0., 0., 0., 0., 0., 0., 0., 0.,\n",
       "       0., 0., 0., 0., 0., 0., 0., 0., 0., 0., 0., 0., 0., 0., 0., 0., 0.,\n",
       "       0., 0., 0., 0., 0., 0., 0., 0., 0., 0., 0., 0., 0., 0., 0., 0., 0.,\n",
       "       0., 0., 0., 0., 0., 0., 0., 0., 0., 0., 0., 0., 0., 0., 0., 0., 0.,\n",
       "       0., 0., 0., 0., 0., 0., 0., 0., 0., 0., 0., 0., 0., 0., 0., 0., 0.,\n",
       "       0., 0., 0., 0., 0., 0., 0., 0., 0., 0., 0., 0., 0., 0., 0., 0., 0.,\n",
       "       0., 0., 0., 0., 0., 0., 0., 0., 0., 0., 0., 0., 0., 0., 0., 0., 0.,\n",
       "       0., 0., 0., 0., 0., 0., 0., 0., 0., 0., 0., 0., 0., 0., 0., 0., 0.,\n",
       "       0., 0., 0., 0., 0., 0., 0., 0., 0., 0., 0., 0., 0., 0., 0., 0., 0.,\n",
       "       0., 0., 0., 0., 0., 0., 0., 0., 0., 0., 0., 0., 0., 0., 0., 0., 0.,\n",
       "       0., 0., 0., 0., 0., 0., 0., 0., 0., 0., 0., 0., 0., 0., 0., 0., 0.,\n",
       "       0., 0., 0., 0., 0., 0., 0., 0., 0., 0., 0.], dtype=float32)"
      ]
     },
     "execution_count": 33,
     "metadata": {},
     "output_type": "execute_result"
    }
   ],
   "source": [
    "biases"
   ]
  },
  {
   "cell_type": "code",
   "execution_count": 34,
   "metadata": {
    "id": "V3pTi7GRKPUK"
   },
   "outputs": [],
   "source": [
    "LOSS_Function = \"sparse_categorical_crossentropy\"\n",
    "OPTIMIZER = \"SGD\"\n",
    "METRICS = ['accuracy']\n",
    "\n",
    "clf_model.compile(loss = LOSS_Function, optimizer = OPTIMIZER, metrics = METRICS)"
   ]
  },
  {
   "cell_type": "code",
   "execution_count": 36,
   "metadata": {
    "colab": {
     "base_uri": "https://localhost:8080/"
    },
    "id": "9VFF6uYyKuuy",
    "outputId": "fd4745c1-238a-40d3-8b22-0328072566b7"
   },
   "outputs": [
    {
     "name": "stdout",
     "output_type": "stream",
     "text": [
      "Epoch 1/20\n",
      "1719/1719 [==============================] - 7s 3ms/step - loss: 0.6085 - accuracy: 0.8444 - val_loss: 0.3017 - val_accuracy: 0.9196\n",
      "Epoch 2/20\n",
      "1719/1719 [==============================] - 4s 3ms/step - loss: 0.2858 - accuracy: 0.9193 - val_loss: 0.2457 - val_accuracy: 0.9288\n",
      "Epoch 3/20\n",
      "1719/1719 [==============================] - 4s 3ms/step - loss: 0.2345 - accuracy: 0.9332 - val_loss: 0.2011 - val_accuracy: 0.9440\n",
      "Epoch 4/20\n",
      "1719/1719 [==============================] - 4s 3ms/step - loss: 0.2011 - accuracy: 0.9428 - val_loss: 0.1765 - val_accuracy: 0.9518\n",
      "Epoch 5/20\n",
      "1719/1719 [==============================] - 4s 3ms/step - loss: 0.1767 - accuracy: 0.9504 - val_loss: 0.1609 - val_accuracy: 0.9582\n",
      "Epoch 6/20\n",
      "1719/1719 [==============================] - 4s 3ms/step - loss: 0.1573 - accuracy: 0.9554 - val_loss: 0.1446 - val_accuracy: 0.9600\n",
      "Epoch 7/20\n",
      "1719/1719 [==============================] - 6s 4ms/step - loss: 0.1413 - accuracy: 0.9599 - val_loss: 0.1337 - val_accuracy: 0.9638\n",
      "Epoch 8/20\n",
      "1719/1719 [==============================] - 5s 3ms/step - loss: 0.1282 - accuracy: 0.9640 - val_loss: 0.1260 - val_accuracy: 0.9656\n",
      "Epoch 9/20\n",
      "1719/1719 [==============================] - 4s 3ms/step - loss: 0.1169 - accuracy: 0.9669 - val_loss: 0.1173 - val_accuracy: 0.9668\n",
      "Epoch 10/20\n",
      "1719/1719 [==============================] - 4s 3ms/step - loss: 0.1069 - accuracy: 0.9702 - val_loss: 0.1088 - val_accuracy: 0.9694\n",
      "Epoch 11/20\n",
      "1719/1719 [==============================] - 4s 3ms/step - loss: 0.0988 - accuracy: 0.9724 - val_loss: 0.1049 - val_accuracy: 0.9698\n",
      "Epoch 12/20\n",
      "1719/1719 [==============================] - 5s 3ms/step - loss: 0.0915 - accuracy: 0.9749 - val_loss: 0.0975 - val_accuracy: 0.9726\n",
      "Epoch 13/20\n",
      "1719/1719 [==============================] - 6s 4ms/step - loss: 0.0844 - accuracy: 0.9767 - val_loss: 0.0941 - val_accuracy: 0.9732\n",
      "Epoch 14/20\n",
      "1719/1719 [==============================] - 6s 3ms/step - loss: 0.0785 - accuracy: 0.9786 - val_loss: 0.0907 - val_accuracy: 0.9754\n",
      "Epoch 15/20\n",
      "1719/1719 [==============================] - 8s 5ms/step - loss: 0.0733 - accuracy: 0.9801 - val_loss: 0.0881 - val_accuracy: 0.9742\n",
      "Epoch 16/20\n",
      "1719/1719 [==============================] - 7s 4ms/step - loss: 0.0685 - accuracy: 0.9818 - val_loss: 0.0846 - val_accuracy: 0.9762\n",
      "Epoch 17/20\n",
      "1719/1719 [==============================] - 4s 3ms/step - loss: 0.0640 - accuracy: 0.9828 - val_loss: 0.0829 - val_accuracy: 0.9760\n",
      "Epoch 18/20\n",
      "1719/1719 [==============================] - 4s 3ms/step - loss: 0.0597 - accuracy: 0.9839 - val_loss: 0.0793 - val_accuracy: 0.9770\n",
      "Epoch 19/20\n",
      "1719/1719 [==============================] - 7s 4ms/step - loss: 0.0561 - accuracy: 0.9851 - val_loss: 0.0790 - val_accuracy: 0.9766\n",
      "Epoch 20/20\n",
      "1719/1719 [==============================] - 4s 3ms/step - loss: 0.0528 - accuracy: 0.9863 - val_loss: 0.0800 - val_accuracy: 0.9770\n"
     ]
    }
   ],
   "source": [
    "EPOCHS = 20\n",
    "VALIDATION = (X_valid,y_valid)\n",
    "\n",
    "history = clf_model.fit(X_train, y_train, epochs = EPOCHS, validation_data = VALIDATION)"
   ]
  },
  {
   "cell_type": "code",
   "execution_count": 37,
   "metadata": {
    "colab": {
     "base_uri": "https://localhost:8080/"
    },
    "id": "Is3rLqExLDqJ",
    "outputId": "84d67798-fc47-484a-95a8-6c87d514f149"
   },
   "outputs": [
    {
     "data": {
      "text/plain": [
       "dict"
      ]
     },
     "execution_count": 37,
     "metadata": {},
     "output_type": "execute_result"
    }
   ],
   "source": [
    "type(history.history)"
   ]
  },
  {
   "cell_type": "code",
   "execution_count": 38,
   "metadata": {
    "colab": {
     "base_uri": "https://localhost:8080/"
    },
    "id": "a5--xDMHLVtb",
    "outputId": "02468fd5-d98a-4c2d-d42b-9d8bac381294"
   },
   "outputs": [
    {
     "data": {
      "text/plain": [
       "dict_keys(['loss', 'accuracy', 'val_loss', 'val_accuracy'])"
      ]
     },
     "execution_count": 38,
     "metadata": {},
     "output_type": "execute_result"
    }
   ],
   "source": [
    "history.history.keys()"
   ]
  },
  {
   "cell_type": "code",
   "execution_count": 39,
   "metadata": {
    "colab": {
     "base_uri": "https://localhost:8080/",
     "height": 676
    },
    "id": "y0vPF22-LX-f",
    "outputId": "aedbb127-deed-4a3f-ccb4-848cc26118fb"
   },
   "outputs": [
    {
     "data": {
      "text/html": [
       "\n",
       "  <div id=\"df-d558f7e7-05b2-4c3a-9fda-17f3af3df746\">\n",
       "    <div class=\"colab-df-container\">\n",
       "      <div>\n",
       "<style scoped>\n",
       "    .dataframe tbody tr th:only-of-type {\n",
       "        vertical-align: middle;\n",
       "    }\n",
       "\n",
       "    .dataframe tbody tr th {\n",
       "        vertical-align: top;\n",
       "    }\n",
       "\n",
       "    .dataframe thead th {\n",
       "        text-align: right;\n",
       "    }\n",
       "</style>\n",
       "<table border=\"1\" class=\"dataframe\">\n",
       "  <thead>\n",
       "    <tr style=\"text-align: right;\">\n",
       "      <th></th>\n",
       "      <th>loss</th>\n",
       "      <th>accuracy</th>\n",
       "      <th>val_loss</th>\n",
       "      <th>val_accuracy</th>\n",
       "    </tr>\n",
       "  </thead>\n",
       "  <tbody>\n",
       "    <tr>\n",
       "      <th>0</th>\n",
       "      <td>0.608497</td>\n",
       "      <td>0.844436</td>\n",
       "      <td>0.301706</td>\n",
       "      <td>0.9196</td>\n",
       "    </tr>\n",
       "    <tr>\n",
       "      <th>1</th>\n",
       "      <td>0.285813</td>\n",
       "      <td>0.919273</td>\n",
       "      <td>0.245727</td>\n",
       "      <td>0.9288</td>\n",
       "    </tr>\n",
       "    <tr>\n",
       "      <th>2</th>\n",
       "      <td>0.234452</td>\n",
       "      <td>0.933236</td>\n",
       "      <td>0.201100</td>\n",
       "      <td>0.9440</td>\n",
       "    </tr>\n",
       "    <tr>\n",
       "      <th>3</th>\n",
       "      <td>0.201088</td>\n",
       "      <td>0.942836</td>\n",
       "      <td>0.176465</td>\n",
       "      <td>0.9518</td>\n",
       "    </tr>\n",
       "    <tr>\n",
       "      <th>4</th>\n",
       "      <td>0.176672</td>\n",
       "      <td>0.950418</td>\n",
       "      <td>0.160939</td>\n",
       "      <td>0.9582</td>\n",
       "    </tr>\n",
       "    <tr>\n",
       "      <th>5</th>\n",
       "      <td>0.157252</td>\n",
       "      <td>0.955436</td>\n",
       "      <td>0.144622</td>\n",
       "      <td>0.9600</td>\n",
       "    </tr>\n",
       "    <tr>\n",
       "      <th>6</th>\n",
       "      <td>0.141318</td>\n",
       "      <td>0.959873</td>\n",
       "      <td>0.133666</td>\n",
       "      <td>0.9638</td>\n",
       "    </tr>\n",
       "    <tr>\n",
       "      <th>7</th>\n",
       "      <td>0.128176</td>\n",
       "      <td>0.964018</td>\n",
       "      <td>0.126024</td>\n",
       "      <td>0.9656</td>\n",
       "    </tr>\n",
       "    <tr>\n",
       "      <th>8</th>\n",
       "      <td>0.116934</td>\n",
       "      <td>0.966855</td>\n",
       "      <td>0.117264</td>\n",
       "      <td>0.9668</td>\n",
       "    </tr>\n",
       "    <tr>\n",
       "      <th>9</th>\n",
       "      <td>0.106899</td>\n",
       "      <td>0.970200</td>\n",
       "      <td>0.108829</td>\n",
       "      <td>0.9694</td>\n",
       "    </tr>\n",
       "    <tr>\n",
       "      <th>10</th>\n",
       "      <td>0.098784</td>\n",
       "      <td>0.972400</td>\n",
       "      <td>0.104872</td>\n",
       "      <td>0.9698</td>\n",
       "    </tr>\n",
       "    <tr>\n",
       "      <th>11</th>\n",
       "      <td>0.091492</td>\n",
       "      <td>0.974873</td>\n",
       "      <td>0.097547</td>\n",
       "      <td>0.9726</td>\n",
       "    </tr>\n",
       "    <tr>\n",
       "      <th>12</th>\n",
       "      <td>0.084398</td>\n",
       "      <td>0.976727</td>\n",
       "      <td>0.094102</td>\n",
       "      <td>0.9732</td>\n",
       "    </tr>\n",
       "    <tr>\n",
       "      <th>13</th>\n",
       "      <td>0.078522</td>\n",
       "      <td>0.978582</td>\n",
       "      <td>0.090662</td>\n",
       "      <td>0.9754</td>\n",
       "    </tr>\n",
       "    <tr>\n",
       "      <th>14</th>\n",
       "      <td>0.073337</td>\n",
       "      <td>0.980109</td>\n",
       "      <td>0.088116</td>\n",
       "      <td>0.9742</td>\n",
       "    </tr>\n",
       "    <tr>\n",
       "      <th>15</th>\n",
       "      <td>0.068453</td>\n",
       "      <td>0.981836</td>\n",
       "      <td>0.084583</td>\n",
       "      <td>0.9762</td>\n",
       "    </tr>\n",
       "    <tr>\n",
       "      <th>16</th>\n",
       "      <td>0.064032</td>\n",
       "      <td>0.982836</td>\n",
       "      <td>0.082867</td>\n",
       "      <td>0.9760</td>\n",
       "    </tr>\n",
       "    <tr>\n",
       "      <th>17</th>\n",
       "      <td>0.059708</td>\n",
       "      <td>0.983945</td>\n",
       "      <td>0.079318</td>\n",
       "      <td>0.9770</td>\n",
       "    </tr>\n",
       "    <tr>\n",
       "      <th>18</th>\n",
       "      <td>0.056143</td>\n",
       "      <td>0.985073</td>\n",
       "      <td>0.079009</td>\n",
       "      <td>0.9766</td>\n",
       "    </tr>\n",
       "    <tr>\n",
       "      <th>19</th>\n",
       "      <td>0.052812</td>\n",
       "      <td>0.986345</td>\n",
       "      <td>0.079988</td>\n",
       "      <td>0.9770</td>\n",
       "    </tr>\n",
       "  </tbody>\n",
       "</table>\n",
       "</div>\n",
       "      <button class=\"colab-df-convert\" onclick=\"convertToInteractive('df-d558f7e7-05b2-4c3a-9fda-17f3af3df746')\"\n",
       "              title=\"Convert this dataframe to an interactive table.\"\n",
       "              style=\"display:none;\">\n",
       "        \n",
       "  <svg xmlns=\"http://www.w3.org/2000/svg\" height=\"24px\"viewBox=\"0 0 24 24\"\n",
       "       width=\"24px\">\n",
       "    <path d=\"M0 0h24v24H0V0z\" fill=\"none\"/>\n",
       "    <path d=\"M18.56 5.44l.94 2.06.94-2.06 2.06-.94-2.06-.94-.94-2.06-.94 2.06-2.06.94zm-11 1L8.5 8.5l.94-2.06 2.06-.94-2.06-.94L8.5 2.5l-.94 2.06-2.06.94zm10 10l.94 2.06.94-2.06 2.06-.94-2.06-.94-.94-2.06-.94 2.06-2.06.94z\"/><path d=\"M17.41 7.96l-1.37-1.37c-.4-.4-.92-.59-1.43-.59-.52 0-1.04.2-1.43.59L10.3 9.45l-7.72 7.72c-.78.78-.78 2.05 0 2.83L4 21.41c.39.39.9.59 1.41.59.51 0 1.02-.2 1.41-.59l7.78-7.78 2.81-2.81c.8-.78.8-2.07 0-2.86zM5.41 20L4 18.59l7.72-7.72 1.47 1.35L5.41 20z\"/>\n",
       "  </svg>\n",
       "      </button>\n",
       "      \n",
       "  <style>\n",
       "    .colab-df-container {\n",
       "      display:flex;\n",
       "      flex-wrap:wrap;\n",
       "      gap: 12px;\n",
       "    }\n",
       "\n",
       "    .colab-df-convert {\n",
       "      background-color: #E8F0FE;\n",
       "      border: none;\n",
       "      border-radius: 50%;\n",
       "      cursor: pointer;\n",
       "      display: none;\n",
       "      fill: #1967D2;\n",
       "      height: 32px;\n",
       "      padding: 0 0 0 0;\n",
       "      width: 32px;\n",
       "    }\n",
       "\n",
       "    .colab-df-convert:hover {\n",
       "      background-color: #E2EBFA;\n",
       "      box-shadow: 0px 1px 2px rgba(60, 64, 67, 0.3), 0px 1px 3px 1px rgba(60, 64, 67, 0.15);\n",
       "      fill: #174EA6;\n",
       "    }\n",
       "\n",
       "    [theme=dark] .colab-df-convert {\n",
       "      background-color: #3B4455;\n",
       "      fill: #D2E3FC;\n",
       "    }\n",
       "\n",
       "    [theme=dark] .colab-df-convert:hover {\n",
       "      background-color: #434B5C;\n",
       "      box-shadow: 0px 1px 3px 1px rgba(0, 0, 0, 0.15);\n",
       "      filter: drop-shadow(0px 1px 2px rgba(0, 0, 0, 0.3));\n",
       "      fill: #FFFFFF;\n",
       "    }\n",
       "  </style>\n",
       "\n",
       "      <script>\n",
       "        const buttonEl =\n",
       "          document.querySelector('#df-d558f7e7-05b2-4c3a-9fda-17f3af3df746 button.colab-df-convert');\n",
       "        buttonEl.style.display =\n",
       "          google.colab.kernel.accessAllowed ? 'block' : 'none';\n",
       "\n",
       "        async function convertToInteractive(key) {\n",
       "          const element = document.querySelector('#df-d558f7e7-05b2-4c3a-9fda-17f3af3df746');\n",
       "          const dataTable =\n",
       "            await google.colab.kernel.invokeFunction('convertToInteractive',\n",
       "                                                     [key], {});\n",
       "          if (!dataTable) return;\n",
       "\n",
       "          const docLinkHtml = 'Like what you see? Visit the ' +\n",
       "            '<a target=\"_blank\" href=https://colab.research.google.com/notebooks/data_table.ipynb>data table notebook</a>'\n",
       "            + ' to learn more about interactive tables.';\n",
       "          element.innerHTML = '';\n",
       "          dataTable['output_type'] = 'display_data';\n",
       "          await google.colab.output.renderOutput(dataTable, element);\n",
       "          const docLink = document.createElement('div');\n",
       "          docLink.innerHTML = docLinkHtml;\n",
       "          element.appendChild(docLink);\n",
       "        }\n",
       "      </script>\n",
       "    </div>\n",
       "  </div>\n",
       "  "
      ],
      "text/plain": [
       "        loss  accuracy  val_loss  val_accuracy\n",
       "0   0.608497  0.844436  0.301706        0.9196\n",
       "1   0.285813  0.919273  0.245727        0.9288\n",
       "2   0.234452  0.933236  0.201100        0.9440\n",
       "3   0.201088  0.942836  0.176465        0.9518\n",
       "4   0.176672  0.950418  0.160939        0.9582\n",
       "5   0.157252  0.955436  0.144622        0.9600\n",
       "6   0.141318  0.959873  0.133666        0.9638\n",
       "7   0.128176  0.964018  0.126024        0.9656\n",
       "8   0.116934  0.966855  0.117264        0.9668\n",
       "9   0.106899  0.970200  0.108829        0.9694\n",
       "10  0.098784  0.972400  0.104872        0.9698\n",
       "11  0.091492  0.974873  0.097547        0.9726\n",
       "12  0.084398  0.976727  0.094102        0.9732\n",
       "13  0.078522  0.978582  0.090662        0.9754\n",
       "14  0.073337  0.980109  0.088116        0.9742\n",
       "15  0.068453  0.981836  0.084583        0.9762\n",
       "16  0.064032  0.982836  0.082867        0.9760\n",
       "17  0.059708  0.983945  0.079318        0.9770\n",
       "18  0.056143  0.985073  0.079009        0.9766\n",
       "19  0.052812  0.986345  0.079988        0.9770"
      ]
     },
     "execution_count": 39,
     "metadata": {},
     "output_type": "execute_result"
    }
   ],
   "source": [
    "df = pd.DataFrame(history.history)\n",
    "df"
   ]
  },
  {
   "cell_type": "code",
   "execution_count": 40,
   "metadata": {
    "colab": {
     "base_uri": "https://localhost:8080/",
     "height": 428
    },
    "id": "DCc6FqWXLfud",
    "outputId": "5620f754-38eb-41c5-a8e2-ecf31b41bdae"
   },
   "outputs": [
    {
     "data": {
      "image/png": "[encoded data removed]",
      "text/plain": [
       "<Figure size 720x504 with 1 Axes>"
      ]
     },
     "metadata": {
      "needs_background": "light"
     },
     "output_type": "display_data"
    }
   ],
   "source": [
    "df.plot(figsize = (10,7))\n",
    "\n",
    "plt.grid(True)\n",
    "plt.show()"
   ]
  },
  {
   "cell_type": "code",
   "execution_count": 41,
   "metadata": {
    "colab": {
     "base_uri": "https://localhost:8080/"
    },
    "id": "FbYI3m7YLuTp",
    "outputId": "526eaf1d-d696-4051-9e92-b5043821124b"
   },
   "outputs": [
    {
     "name": "stdout",
     "output_type": "stream",
     "text": [
      "313/313 [==============================] - 1s 2ms/step - loss: 0.0839 - accuracy: 0.9737\n"
     ]
    },
    {
     "data": {
      "text/plain": [
       "[0.08394693583250046, 0.9736999869346619]"
      ]
     },
     "execution_count": 41,
     "metadata": {},
     "output_type": "execute_result"
    }
   ],
   "source": [
    "clf_model.evaluate(X_test,y_test)"
   ]
  },
  {
   "cell_type": "code",
   "execution_count": 43,
   "metadata": {
    "colab": {
     "base_uri": "https://localhost:8080/"
    },
    "id": "5sA3N8q6L1in",
    "outputId": "c832a88c-d8b5-4791-d05e-01cd0fc74639"
   },
   "outputs": [
    {
     "data": {
      "text/plain": [
       "array([[0.   , 0.   , 0.   , 0.001, 0.   , 0.   , 0.   , 0.999, 0.   ,\n",
       "        0.   ],\n",
       "       [0.   , 0.   , 0.998, 0.001, 0.   , 0.   , 0.   , 0.   , 0.   ,\n",
       "        0.   ],\n",
       "       [0.   , 0.997, 0.001, 0.   , 0.   , 0.   , 0.   , 0.002, 0.   ,\n",
       "        0.   ]], dtype=float32)"
      ]
     },
     "execution_count": 43,
     "metadata": {},
     "output_type": "execute_result"
    }
   ],
   "source": [
    "X_new = X_test[:3]\n",
    "\n",
    "y_prob = clf_model.predict(X_new)\n",
    "\n",
    "y_prob.round(3)"
   ]
  },
  {
   "cell_type": "code",
   "execution_count": 44,
   "metadata": {
    "colab": {
     "base_uri": "https://localhost:8080/"
    },
    "id": "NmkripG1L9Mq",
    "outputId": "03aaa785-a2dc-4ed6-ea4f-26e7157491cf"
   },
   "outputs": [
    {
     "data": {
      "text/plain": [
       "array([7, 2, 1])"
      ]
     },
     "execution_count": 44,
     "metadata": {},
     "output_type": "execute_result"
    }
   ],
   "source": [
    "Y_pred= np.argmax(y_prob, axis=-1)\n",
    "Y_pred"
   ]
  },
  {
   "cell_type": "code",
   "execution_count": 45,
   "metadata": {
    "colab": {
     "base_uri": "https://localhost:8080/",
     "height": 810
    },
    "id": "qqNKixBgMEQi",
    "outputId": "997216a9-f66f-4048-bf5b-53d87b74907a"
   },
   "outputs": [
    {
     "data": {
      "image/png": "[encoded data removed]",
      "text/plain": [
       "<Figure size 432x288 with 1 Axes>"
      ]
     },
     "metadata": {
      "needs_background": "light"
     },
     "output_type": "display_data"
    },
    {
     "name": "stdout",
     "output_type": "stream",
     "text": [
      "------------------------------------------------------------\n"
     ]
    },
    {
     "data": {
      "image/png": "[encoded data removed]",
      "text/plain": [
       "<Figure size 432x288 with 1 Axes>"
      ]
     },
     "metadata": {
      "needs_background": "light"
     },
     "output_type": "display_data"
    },
    {
     "name": "stdout",
     "output_type": "stream",
     "text": [
      "------------------------------------------------------------\n"
     ]
    },
    {
     "data": {
      "image/png": "[encoded data removed]",
      "text/plain": [
       "<Figure size 432x288 with 1 Axes>"
      ]
     },
     "metadata": {
      "needs_background": "light"
     },
     "output_type": "display_data"
    },
    {
     "name": "stdout",
     "output_type": "stream",
     "text": [
      "------------------------------------------------------------\n"
     ]
    }
   ],
   "source": [
    "for img_array, pred, actual in zip(X_new, Y_pred, y_test[:3]):\n",
    "  plt.imshow(img_array, cmap=\"binary\")\n",
    "  plt.title(f\"predicted: {pred}, Actual: {actual}\")\n",
    "  plt.axis(\"off\")\n",
    "  plt.show()\n",
    "  print(\"---\"*20)"
   ]
  },
  {
   "cell_type": "code",
   "execution_count": null,
   "metadata": {
    "id": "4pCROqZ2MGev"
   },
   "outputs": [],
   "source": []
  }
 ],
 "metadata": {
  "accelerator": "GPU",
  "colab": {
   "provenance": []
  },
  "kernelspec": {
   "display_name": "Python 3 (ipykernel)",
   "language": "python",
   "name": "python3"
  },
  "language_info": {
   "codemirror_mode": {
    "name": "ipython",
    "version": 3
   },
   "file_extension": ".py",
   "mimetype": "text/x-python",
   "name": "python",
   "nbconvert_exporter": "python",
   "pygments_lexer": "ipython3",
   "version": "3.9.10"
  }
 },
 "nbformat": 4,
 "nbformat_minor": 1
}
