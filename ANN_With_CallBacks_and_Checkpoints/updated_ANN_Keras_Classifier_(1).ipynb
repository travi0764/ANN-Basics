{
 "cells": [
  {
   "cell_type": "markdown",
   "metadata": {
    "id": "ImbqcbLeT1Ag"
   },
   "source": [
    "\n",
    "## Open Source Deep Learning Frameworks\n",
    "\n",
    "Deep learnings is made accessible by a number of open source projects. Some of the most popular technologies include, but are not limited to, Deeplearning4j (DL4j), Theano, Torch, TensorFlow, and Caffe. The deciding factors on which one to use are the tech stack they target, and if they are low-level, academic, or application focused. Here’s an overview of each:\n",
    "\n",
    "DL4J:\n",
    "\n",
    "   * JVM-based\n",
    "   * Distrubted\n",
    "   * Integrates with Hadoop and Spark\n",
    "   \n",
    "   \n",
    "Theano:\n",
    "\n",
    "   * Very popular in Academia\n",
    "   * Fairly low level\n",
    "   * Interfaced with via Python and Numpy\n",
    "\n",
    "\n",
    "Torch:\n",
    "\n",
    "   * Lua based\n",
    "   * In house versions used by Facebook and Twitter\n",
    "   * Contains pretrained models\n",
    "\n",
    "\n",
    "TensorFlow:\n",
    "\n",
    "   * Google written successor to Theano\n",
    "   * Interfaced with via Python and Numpy\n",
    "   * Highly parallel\n",
    "   * Can be somewhat slow for certain problem sets\n",
    "\n",
    "\n",
    "\n",
    "Caffe:\n",
    "\n",
    "   * Not general purpose. Focuses on machine-vision problems\n",
    "   * Implemented in C++ and is very fast\n",
    "   * Not easily extensible\n",
    "   * Has a Python interface"
   ]
  },
  {
   "cell_type": "markdown",
   "metadata": {
    "id": "pnsmiyxVT1Ah"
   },
   "source": [
    "## Brief installation of Tensorflow"
   ]
  },
  {
   "cell_type": "markdown",
   "metadata": {
    "id": "Ud4hjZh4T1Ai"
   },
   "source": [
    ">TensorFlow is tested and supported on the following 64-bit systems:\n",
    "\n",
    ">1.Ubuntu 16.04 or later\n",
    "\n",
    ">2.Windows 7 or later\n",
    "\n",
    ">3.macOS 10.12.6 (Sierra) or later (no GPU support)\n",
    "\n",
    ">4.Raspbian 9.0 or later"
   ]
  },
  {
   "cell_type": "markdown",
   "metadata": {
    "id": "AkdmzqrYT1Aj"
   },
   "source": [
    "> **pip install tensorflow**\n",
    "\n",
    "> To run from Anaconda Prompt\n",
    "\n",
    "> **!pip install tensorflow**\n",
    "\n",
    "> To run from Jupyter Notebook"
   ]
  },
  {
   "cell_type": "markdown",
   "metadata": {
    "id": "ytZ87YafT1Ak"
   },
   "source": [
    "`Both Tensorflow 2.0 and Keras have been released for four years (Keras was released in March 2015, and Tensorflow was released in November of the same year). The rapid development of deep learning in the past days, we also know some problems of Tensorflow1.x and Keras:`\n",
    "\n",
    "* Using Tensorflow means programming static graphs, which is difficult and inconvenient for programs that are familiar with imperative programming\n",
    "\n",
    "* Tensorflow api is powerful and flexible, but it is more complex, confusing and difficult to use.\n",
    "\n",
    "* Keras api is productive and easy to use, but lacks flexibility for research\n"
   ]
  },
  {
   "cell_type": "markdown",
   "metadata": {
    "id": "tlJYerU_T1Al"
   },
   "source": [
    "#### Official docs link for [DETAILED INSTALLATION STEPS](https://www.tensorflow.org/install) for Tensorflow 2"
   ]
  },
  {
   "cell_type": "code",
   "execution_count": null,
   "metadata": {
    "id": "deqLTYe4T1Am"
   },
   "outputs": [],
   "source": [
    "# Verify installation - \n",
    "import tensorflow as tf"
   ]
  },
  {
   "cell_type": "code",
   "execution_count": null,
   "metadata": {
    "colab": {
     "base_uri": "https://localhost:8080/"
    },
    "id": "ojSPnupYT1Aw",
    "outputId": "57422514-38e6-4c47-87ab-00bee06e7163"
   },
   "outputs": [
    {
     "name": "stdout",
     "output_type": "stream",
     "text": [
      "Tensorflow Version: 2.6.0\n",
      "Keras Version: 2.6.0\n"
     ]
    }
   ],
   "source": [
    "print(f\"Tensorflow Version: {tf.__version__}\")\n",
    "print(f\"Keras Version: {tf.keras.__version__}\")"
   ]
  },
  {
   "cell_type": "markdown",
   "metadata": {
    "id": "CTaL2-LJT1A6"
   },
   "source": [
    "`Tensorflow2.0 is a combination design of Tensorflow1.x and Keras. Considering user feedback and framework development over the past four years, it largely solves the above problems and will become the future machine learning platform.`\n",
    "\n",
    "> Tensorflow 2.0 is built on the following core ideas:\n",
    "\n",
    "\n",
    "* The coding is more pythonic, so that users can get the results immediately like they are programming in numpy\n",
    "* Retaining the characteristics of static graphs (for performance, distributed, and production deployment), this makes TensorFlow fast, scalable, and ready for production.\n",
    "* Using Keras as a high-level API for deep learning, making Tensorflow easy to use and efficient\n",
    "* Make the entire framework both high-level features (easy to use, efficient, and not flexible) and low-level features (powerful and scalable, not easy to use, but very flexible)"
   ]
  },
  {
   "cell_type": "markdown",
   "metadata": {
    "id": "CCC4y-g9T1A7"
   },
   "source": [
    ">Eager execution is by default in TensorFlow 2.0 and, it needs no special setup.\n",
    ">The following below code can be used to find out whether a CPU or GPU is in use"
   ]
  },
  {
   "cell_type": "markdown",
   "metadata": {
    "id": "NbuiMpcxT1A8"
   },
   "source": [
    "### GPU/CPU Check"
   ]
  },
  {
   "cell_type": "code",
   "execution_count": null,
   "metadata": {
    "colab": {
     "base_uri": "https://localhost:8080/"
    },
    "id": "kfdsjkrlT1A-",
    "outputId": "e447d200-6583-4883-f77c-b6c0614fbdb5",
    "scrolled": true
   },
   "outputs": [
    {
     "data": {
      "text/plain": [
       "[PhysicalDevice(name='/physical_device:GPU:0', device_type='GPU')]"
      ]
     },
     "execution_count": 3,
     "metadata": {},
     "output_type": "execute_result"
    }
   ],
   "source": [
    "tf.config.list_physical_devices('GPU')"
   ]
  },
  {
   "cell_type": "code",
   "execution_count": null,
   "metadata": {
    "colab": {
     "base_uri": "https://localhost:8080/"
    },
    "id": "BrJOgcJsT1BF",
    "outputId": "6daa32e0-46f3-4721-c824-24b4544053eb"
   },
   "outputs": [
    {
     "data": {
      "text/plain": [
       "[PhysicalDevice(name='/physical_device:CPU:0', device_type='CPU')]"
      ]
     },
     "execution_count": 4,
     "metadata": {},
     "output_type": "execute_result"
    }
   ],
   "source": [
    "tf.config.list_physical_devices('CPU')"
   ]
  },
  {
   "cell_type": "code",
   "execution_count": null,
   "metadata": {
    "colab": {
     "base_uri": "https://localhost:8080/"
    },
    "id": "oWgQL00sT1BL",
    "outputId": "b08fd6c0-e74a-444a-da6d-638fe6eec9c6"
   },
   "outputs": [
    {
     "name": "stdout",
     "output_type": "stream",
     "text": [
      "GPU is available\n",
      "details\n",
      " [PhysicalDevice(name='/physical_device:GPU:0', device_type='GPU')]\n",
      "CPU is available\n",
      "details\n",
      " [PhysicalDevice(name='/physical_device:CPU:0', device_type='CPU')]\n"
     ]
    }
   ],
   "source": [
    "CheckList = [\"GPU\", \"CPU\"]\n",
    "for device in CheckList:\n",
    "    out_ = tf.config.list_physical_devices(device)    \n",
    "    if len(out_) > 0:\n",
    "        print(f\"{device} is available\")        \n",
    "        print(\"details\\n\",out_)\n",
    "    else:\n",
    "        print(f\"{device} not available\")"
   ]
  },
  {
   "cell_type": "markdown",
   "metadata": {
    "id": "WLXo-zKVT1BP"
   },
   "source": [
    "## A simple classifier using Keras's Sequential API"
   ]
  },
  {
   "cell_type": "code",
   "execution_count": null,
   "metadata": {
    "id": "fjDK1fu5T1BR"
   },
   "outputs": [],
   "source": [
    "import numpy as np\n",
    "import matplotlib.pyplot as plt\n",
    "import pandas as pd\n",
    "import os\n",
    "import tensorflow as tf\n",
    "import seaborn as sns"
   ]
  },
  {
   "cell_type": "markdown",
   "metadata": {
    "id": "Qlc3DlXAT1BW"
   },
   "source": [
    "### Working on mnist dataset - \n",
    "\n",
    "* This dataset contains handwritten digits. \n",
    "* It has 10 classes i.e. 0 to 9\n",
    "* Each data point is 2D array of 28x28 size.\n",
    "* Also known as hello world dataset for ANN\n",
    "\n",
    "[image source](https://en.wikipedia.org/wiki/MNIST_database#/media/File:MnistExamples.png)\n",
    "\n",
    "![](https://upload.wikimedia.org/wikipedia/commons/2/27/MnistExamples.png)"
   ]
  },
  {
   "cell_type": "code",
   "execution_count": null,
   "metadata": {
    "colab": {
     "base_uri": "https://localhost:8080/"
    },
    "id": "oUX64PRkT1BW",
    "outputId": "a83a5a79-7c38-4f0f-b7aa-d3ada6531aec"
   },
   "outputs": [
    {
     "name": "stdout",
     "output_type": "stream",
     "text": [
      "Downloading data from https://storage.googleapis.com/tensorflow/tf-keras-datasets/mnist.npz\n",
      "11493376/11490434 [==============================] - 0s 0us/step\n",
      "11501568/11490434 [==============================] - 0s 0us/step\n"
     ]
    }
   ],
   "source": [
    "# Keras has already contains mnist dataset \n",
    "# Loading mnist data using Keras\n",
    "\n",
    "mnist = tf.keras.datasets.mnist\n",
    "(X_train_full, y_train_full), (X_test, y_test) = mnist.load_data()"
   ]
  },
  {
   "cell_type": "code",
   "execution_count": null,
   "metadata": {
    "colab": {
     "base_uri": "https://localhost:8080/"
    },
    "id": "UCb1hhLiT1Bc",
    "outputId": "109e4289-aba3-4691-9be1-8bbe3e5a5353"
   },
   "outputs": [
    {
     "name": "stdout",
     "output_type": "stream",
     "text": [
      "data type of X_train_full: uint8,\n",
      "shape of X_train_full: (60000, 28, 28)\n"
     ]
    }
   ],
   "source": [
    "print(f\"data type of X_train_full: {X_train_full.dtype},\\nshape of X_train_full: {X_train_full.shape}\")"
   ]
  },
  {
   "cell_type": "code",
   "execution_count": null,
   "metadata": {
    "id": "ZTO5K8x7T1Bk"
   },
   "outputs": [],
   "source": [
    "# create a validation data set from the full training data \n",
    "# Scale the data between 0 to 1 by dividing it by 255. as its an unsigned data between 0-255 range\n",
    "X_valid, X_train = X_train_full[:5000] / 255., X_train_full[5000:] / 255.\n",
    "y_valid, y_train = y_train_full[:5000], y_train_full[5000:]\n",
    "\n",
    "# scale the test set as well\n",
    "X_test = X_test / 255.\n",
    "\n"
   ]
  },
  {
   "cell_type": "code",
   "execution_count": null,
   "metadata": {
    "colab": {
     "base_uri": "https://localhost:8080/",
     "height": 248
    },
    "id": "CavNIdoaT1Bp",
    "outputId": "470df877-e3b5-4c1e-fc17-8ec984bb71f0"
   },
   "outputs": [
    {
     "data": {
      "image/png": "[encoded data removed]",
      "text/plain": [
       "<Figure size 432x288 with 1 Axes>"
      ]
     },
     "metadata": {
      "needs_background": "light"
     },
     "output_type": "display_data"
    }
   ],
   "source": [
    "# lets view the first data point of X_train\n",
    "plt.imshow(X_train[0], cmap=\"binary\")\n",
    "plt.axis('off')\n",
    "plt.show()\n"
   ]
  },
  {
   "cell_type": "code",
   "execution_count": null,
   "metadata": {
    "colab": {
     "base_uri": "https://localhost:8080/",
     "height": 880
    },
    "id": "NbtIMpuZT1Bu",
    "outputId": "89b87c22-2e35-4e78-80b6-96dd68fb01e7"
   },
   "outputs": [
    {
     "data": {
      "text/plain": [
       "<matplotlib.axes._subplots.AxesSubplot at 0x7ff93ab72b50>"
      ]
     },
     "execution_count": 11,
     "metadata": {},
     "output_type": "execute_result"
    },
    {
     "data": {
      "image/png": "[encoded data removed]",
      "text/plain": [
       "<Figure size 1080x1080 with 2 Axes>"
      ]
     },
     "metadata": {
      "needs_background": "light"
     },
     "output_type": "display_data"
    }
   ],
   "source": [
    "plt.figure(figsize=(15,15))\n",
    "sns.heatmap(X_train[0], annot=True, cmap=\"binary\")"
   ]
  },
  {
   "cell_type": "code",
   "execution_count": null,
   "metadata": {
    "colab": {
     "base_uri": "https://localhost:8080/"
    },
    "id": "DTUr2xheT1B0",
    "outputId": "11157f0f-cf91-4a62-bcc2-c6fda3ab280d"
   },
   "outputs": [
    {
     "data": {
      "text/plain": [
       "7"
      ]
     },
     "execution_count": 12,
     "metadata": {},
     "output_type": "execute_result"
    }
   ],
   "source": [
    "# actual value of y_train\n",
    "y_train[0]"
   ]
  },
  {
   "cell_type": "code",
   "execution_count": null,
   "metadata": {
    "id": "k2BX3qEiT1B5"
   },
   "outputs": [],
   "source": [
    "LAYERS = [tf.keras.layers.Flatten(input_shape=[28, 28], name=\"inputLayer\"),\n",
    "          tf.keras.layers.Dense(300, activation=\"relu\", name=\"hiddenLayer1\"),\n",
    "          tf.keras.layers.Dense(100, activation=\"relu\", name=\"hiddenLayer2\"),\n",
    "          tf.keras.layers.Dense(10, activation=\"softmax\", name=\"outputLayer\")]\n",
    "\n",
    "model_clf = tf.keras.models.Sequential(LAYERS)"
   ]
  },
  {
   "cell_type": "markdown",
   "metadata": {
    "id": "VQPHM-DwT1B9"
   },
   "source": [
    "#### Altenative 1\n",
    "\n",
    "```python\n",
    "model = tf.keras.models.Sequential()\n",
    "model.add(tf.keras.layers.Flatten(input_shape=[28, 28]))\n",
    "model.add(tf.keras.layers.Dense(300, activation=\"relu\"))\n",
    "model.add(tf.keras.layers.Dense(100, activation=\"relu\"))\n",
    "model.add(tf.keras.layers.Dense(10, activation=\"softmax\"))\n",
    "\n",
    "```"
   ]
  },
  {
   "cell_type": "markdown",
   "metadata": {
    "id": "3WlLdDzET1B-"
   },
   "source": [
    "#### Alternative 2\n",
    "\n",
    "```python\n",
    "model = tf.keras.models.Sequential([\n",
    "    tf.keras.layers.Flatten(input_shape=[28, 28]),\n",
    "    tf.keras.layers.Dense(300, activation=\"relu\"),\n",
    "    tf.keras.layers.Dense(100, activation=\"relu\"),\n",
    "    tf.keras.layers.Dense(10, activation=\"softmax\")\n",
    "])\n",
    "```"
   ]
  },
  {
   "cell_type": "markdown",
   "metadata": {
    "id": "VGe8cja-T1B-"
   },
   "source": [
    "### For custom weights initialiser or setting weights \n",
    "refer [here](https://keras.io/api/layers/base_layer/#setweights-method)"
   ]
  },
  {
   "cell_type": "code",
   "execution_count": null,
   "metadata": {
    "colab": {
     "base_uri": "https://localhost:8080/"
    },
    "id": "sA9wBfw_T1B_",
    "outputId": "7587aa20-c1b4-443d-a274-a4f58712ee4d"
   },
   "outputs": [
    {
     "data": {
      "text/plain": [
       "[<keras.layers.core.Flatten at 0x7ff8b7340b90>,\n",
       " <keras.layers.core.Dense at 0x7ff8b7308ad0>,\n",
       " <keras.layers.core.Dense at 0x7ff8b737bf50>,\n",
       " <keras.layers.core.Dense at 0x7ff8b72f93d0>]"
      ]
     },
     "execution_count": 14,
     "metadata": {},
     "output_type": "execute_result"
    }
   ],
   "source": [
    "model_clf.layers"
   ]
  },
  {
   "cell_type": "code",
   "execution_count": null,
   "metadata": {
    "colab": {
     "base_uri": "https://localhost:8080/"
    },
    "id": "JluBwQFVT1CD",
    "outputId": "45fb5de8-5b17-4939-d9f3-e39b7133f6cd"
   },
   "outputs": [
    {
     "name": "stdout",
     "output_type": "stream",
     "text": [
      "Model: \"sequential\"\n",
      "_________________________________________________________________\n",
      "Layer (type)                 Output Shape              Param #   \n",
      "=================================================================\n",
      "inputLayer (Flatten)         (None, 784)               0         \n",
      "_________________________________________________________________\n",
      "hiddenLayer1 (Dense)         (None, 300)               235500    \n",
      "_________________________________________________________________\n",
      "hiddenLayer2 (Dense)         (None, 100)               30100     \n",
      "_________________________________________________________________\n",
      "outputLayer (Dense)          (None, 10)                1010      \n",
      "=================================================================\n",
      "Total params: 266,610\n",
      "Trainable params: 266,610\n",
      "Non-trainable params: 0\n",
      "_________________________________________________________________\n"
     ]
    }
   ],
   "source": [
    "model_clf.summary()"
   ]
  },
  {
   "cell_type": "code",
   "execution_count": null,
   "metadata": {
    "colab": {
     "base_uri": "https://localhost:8080/"
    },
    "id": "lh2tYK0fT1CJ",
    "outputId": "62edd46b-9b2f-43a4-b769-fdff13db1954"
   },
   "outputs": [
    {
     "data": {
      "text/plain": [
       "(235500, 30100, 1010)"
      ]
     },
     "execution_count": 16,
     "metadata": {},
     "output_type": "execute_result"
    }
   ],
   "source": [
    "# firsLayer * secondLayer + bias\n",
    "784*300 + 300, 300*100+100, 100*10+10"
   ]
  },
  {
   "cell_type": "code",
   "execution_count": null,
   "metadata": {
    "colab": {
     "base_uri": "https://localhost:8080/"
    },
    "id": "y5xbBd9dT1CO",
    "outputId": "3886245e-27e2-4ecb-e378-7769aaac7598"
   },
   "outputs": [
    {
     "data": {
      "text/plain": [
       "266610"
      ]
     },
     "execution_count": 17,
     "metadata": {},
     "output_type": "execute_result"
    }
   ],
   "source": [
    "# Total parameters to be trained -\n",
    "sum((235500, 30100, 1010))"
   ]
  },
  {
   "cell_type": "code",
   "execution_count": null,
   "metadata": {
    "colab": {
     "base_uri": "https://localhost:8080/",
     "height": 35
    },
    "id": "sV2F7E6ET1CT",
    "outputId": "16194581-28e0-4d5b-bb2a-516b0e859d9e"
   },
   "outputs": [
    {
     "data": {
      "application/vnd.google.colaboratory.intrinsic+json": {
       "type": "string"
      },
      "text/plain": [
       "'hiddenLayer1'"
      ]
     },
     "execution_count": 18,
     "metadata": {},
     "output_type": "execute_result"
    }
   ],
   "source": [
    "hidden1 = model_clf.layers[1]\n",
    "hidden1.name"
   ]
  },
  {
   "cell_type": "code",
   "execution_count": null,
   "metadata": {
    "colab": {
     "base_uri": "https://localhost:8080/"
    },
    "id": "E44TYmE-T1Ca",
    "outputId": "520dcb55-90c8-483b-b316-8768777e8819"
   },
   "outputs": [
    {
     "data": {
      "text/plain": [
       "True"
      ]
     },
     "execution_count": 19,
     "metadata": {},
     "output_type": "execute_result"
    }
   ],
   "source": [
    "model_clf.get_layer(hidden1.name) is hidden1"
   ]
  },
  {
   "cell_type": "code",
   "execution_count": null,
   "metadata": {
    "id": "zIovwIogT1Cg"
   },
   "outputs": [],
   "source": [
    "# hidden1.set_weights(hidden1.get_weights()) # to set weights"
   ]
  },
  {
   "cell_type": "code",
   "execution_count": null,
   "metadata": {
    "colab": {
     "base_uri": "https://localhost:8080/"
    },
    "id": "8ZTodjmCT1Ck",
    "outputId": "b6bb31db-245b-443b-ba29-644a18eee578"
   },
   "outputs": [
    {
     "data": {
      "text/plain": [
       "list"
      ]
     },
     "execution_count": 21,
     "metadata": {},
     "output_type": "execute_result"
    }
   ],
   "source": [
    "type(hidden1.get_weights())"
   ]
  },
  {
   "cell_type": "code",
   "execution_count": null,
   "metadata": {
    "colab": {
     "base_uri": "https://localhost:8080/"
    },
    "id": "FaU9U8QfT1Cp",
    "outputId": "b795af8f-cdf3-4074-cb36-bca39eaff55d"
   },
   "outputs": [
    {
     "data": {
      "text/plain": [
       "[array([[-0.01532042,  0.025209  , -0.02564349, ..., -0.06584705,\n",
       "          0.01775979,  0.01138838],\n",
       "        [-0.04307553, -0.05122981,  0.03684541, ..., -0.00312759,\n",
       "         -0.0724381 ,  0.01463279],\n",
       "        [-0.02947921, -0.03509135,  0.05213718, ...,  0.03134465,\n",
       "          0.03637516,  0.0029221 ],\n",
       "        ...,\n",
       "        [ 0.04177534, -0.06692991, -0.02038378, ..., -0.00908893,\n",
       "         -0.07067717, -0.02178219],\n",
       "        [ 0.03172617, -0.01804585, -0.04782007, ...,  0.01264714,\n",
       "         -0.0232025 ,  0.026714  ],\n",
       "        [-0.05740872,  0.05988732,  0.06011064, ..., -0.03915596,\n",
       "         -0.01084446,  0.02594289]], dtype=float32),\n",
       " array([0., 0., 0., 0., 0., 0., 0., 0., 0., 0., 0., 0., 0., 0., 0., 0., 0.,\n",
       "        0., 0., 0., 0., 0., 0., 0., 0., 0., 0., 0., 0., 0., 0., 0., 0., 0.,\n",
       "        0., 0., 0., 0., 0., 0., 0., 0., 0., 0., 0., 0., 0., 0., 0., 0., 0.,\n",
       "        0., 0., 0., 0., 0., 0., 0., 0., 0., 0., 0., 0., 0., 0., 0., 0., 0.,\n",
       "        0., 0., 0., 0., 0., 0., 0., 0., 0., 0., 0., 0., 0., 0., 0., 0., 0.,\n",
       "        0., 0., 0., 0., 0., 0., 0., 0., 0., 0., 0., 0., 0., 0., 0., 0., 0.,\n",
       "        0., 0., 0., 0., 0., 0., 0., 0., 0., 0., 0., 0., 0., 0., 0., 0., 0.,\n",
       "        0., 0., 0., 0., 0., 0., 0., 0., 0., 0., 0., 0., 0., 0., 0., 0., 0.,\n",
       "        0., 0., 0., 0., 0., 0., 0., 0., 0., 0., 0., 0., 0., 0., 0., 0., 0.,\n",
       "        0., 0., 0., 0., 0., 0., 0., 0., 0., 0., 0., 0., 0., 0., 0., 0., 0.,\n",
       "        0., 0., 0., 0., 0., 0., 0., 0., 0., 0., 0., 0., 0., 0., 0., 0., 0.,\n",
       "        0., 0., 0., 0., 0., 0., 0., 0., 0., 0., 0., 0., 0., 0., 0., 0., 0.,\n",
       "        0., 0., 0., 0., 0., 0., 0., 0., 0., 0., 0., 0., 0., 0., 0., 0., 0.,\n",
       "        0., 0., 0., 0., 0., 0., 0., 0., 0., 0., 0., 0., 0., 0., 0., 0., 0.,\n",
       "        0., 0., 0., 0., 0., 0., 0., 0., 0., 0., 0., 0., 0., 0., 0., 0., 0.,\n",
       "        0., 0., 0., 0., 0., 0., 0., 0., 0., 0., 0., 0., 0., 0., 0., 0., 0.,\n",
       "        0., 0., 0., 0., 0., 0., 0., 0., 0., 0., 0., 0., 0., 0., 0., 0., 0.,\n",
       "        0., 0., 0., 0., 0., 0., 0., 0., 0., 0., 0.], dtype=float32)]"
      ]
     },
     "execution_count": 22,
     "metadata": {},
     "output_type": "execute_result"
    }
   ],
   "source": [
    "hidden1.get_weights()"
   ]
  },
  {
   "cell_type": "code",
   "execution_count": null,
   "metadata": {
    "id": "AvWqAyD3T1Cx"
   },
   "outputs": [],
   "source": [
    "weights, biases = hidden1.get_weights()"
   ]
  },
  {
   "cell_type": "code",
   "execution_count": null,
   "metadata": {
    "colab": {
     "base_uri": "https://localhost:8080/"
    },
    "id": "jsDl3Cs2T1C3",
    "outputId": "34cdbfdd-f25d-45d2-99c3-f7429a7ffcda"
   },
   "outputs": [
    {
     "name": "stdout",
     "output_type": "stream",
     "text": [
      "shape\n",
      " (784, 300) \n",
      "\n"
     ]
    },
    {
     "data": {
      "text/plain": [
       "array([[-0.01532042,  0.025209  , -0.02564349, ..., -0.06584705,\n",
       "         0.01775979,  0.01138838],\n",
       "       [-0.04307553, -0.05122981,  0.03684541, ..., -0.00312759,\n",
       "        -0.0724381 ,  0.01463279],\n",
       "       [-0.02947921, -0.03509135,  0.05213718, ...,  0.03134465,\n",
       "         0.03637516,  0.0029221 ],\n",
       "       ...,\n",
       "       [ 0.04177534, -0.06692991, -0.02038378, ..., -0.00908893,\n",
       "        -0.07067717, -0.02178219],\n",
       "       [ 0.03172617, -0.01804585, -0.04782007, ...,  0.01264714,\n",
       "        -0.0232025 ,  0.026714  ],\n",
       "       [-0.05740872,  0.05988732,  0.06011064, ..., -0.03915596,\n",
       "        -0.01084446,  0.02594289]], dtype=float32)"
      ]
     },
     "execution_count": 24,
     "metadata": {},
     "output_type": "execute_result"
    }
   ],
   "source": [
    "print(\"shape\\n\",weights.shape, \"\\n\")\n",
    "\n",
    "weights\n"
   ]
  },
  {
   "cell_type": "code",
   "execution_count": null,
   "metadata": {
    "colab": {
     "base_uri": "https://localhost:8080/"
    },
    "id": "NFtn3qxuT1C7",
    "outputId": "d0cf640a-ddf9-4819-a57e-4c3ccd1727cd"
   },
   "outputs": [
    {
     "name": "stdout",
     "output_type": "stream",
     "text": [
      "shape\n",
      " (300,)\n"
     ]
    },
    {
     "data": {
      "text/plain": [
       "array([0., 0., 0., 0., 0., 0., 0., 0., 0., 0., 0., 0., 0., 0., 0., 0., 0.,\n",
       "       0., 0., 0., 0., 0., 0., 0., 0., 0., 0., 0., 0., 0., 0., 0., 0., 0.,\n",
       "       0., 0., 0., 0., 0., 0., 0., 0., 0., 0., 0., 0., 0., 0., 0., 0., 0.,\n",
       "       0., 0., 0., 0., 0., 0., 0., 0., 0., 0., 0., 0., 0., 0., 0., 0., 0.,\n",
       "       0., 0., 0., 0., 0., 0., 0., 0., 0., 0., 0., 0., 0., 0., 0., 0., 0.,\n",
       "       0., 0., 0., 0., 0., 0., 0., 0., 0., 0., 0., 0., 0., 0., 0., 0., 0.,\n",
       "       0., 0., 0., 0., 0., 0., 0., 0., 0., 0., 0., 0., 0., 0., 0., 0., 0.,\n",
       "       0., 0., 0., 0., 0., 0., 0., 0., 0., 0., 0., 0., 0., 0., 0., 0., 0.,\n",
       "       0., 0., 0., 0., 0., 0., 0., 0., 0., 0., 0., 0., 0., 0., 0., 0., 0.,\n",
       "       0., 0., 0., 0., 0., 0., 0., 0., 0., 0., 0., 0., 0., 0., 0., 0., 0.,\n",
       "       0., 0., 0., 0., 0., 0., 0., 0., 0., 0., 0., 0., 0., 0., 0., 0., 0.,\n",
       "       0., 0., 0., 0., 0., 0., 0., 0., 0., 0., 0., 0., 0., 0., 0., 0., 0.,\n",
       "       0., 0., 0., 0., 0., 0., 0., 0., 0., 0., 0., 0., 0., 0., 0., 0., 0.,\n",
       "       0., 0., 0., 0., 0., 0., 0., 0., 0., 0., 0., 0., 0., 0., 0., 0., 0.,\n",
       "       0., 0., 0., 0., 0., 0., 0., 0., 0., 0., 0., 0., 0., 0., 0., 0., 0.,\n",
       "       0., 0., 0., 0., 0., 0., 0., 0., 0., 0., 0., 0., 0., 0., 0., 0., 0.,\n",
       "       0., 0., 0., 0., 0., 0., 0., 0., 0., 0., 0., 0., 0., 0., 0., 0., 0.,\n",
       "       0., 0., 0., 0., 0., 0., 0., 0., 0., 0., 0.], dtype=float32)"
      ]
     },
     "execution_count": 25,
     "metadata": {},
     "output_type": "execute_result"
    }
   ],
   "source": [
    "print(\"shape\\n\", biases.shape)\n",
    "\n",
    "biases"
   ]
  },
  {
   "cell_type": "markdown",
   "metadata": {
    "id": "iAL9aF7dRyaj"
   },
   "source": [
    "$$loss\\_function(actual, pred) = error$$"
   ]
  },
  {
   "cell_type": "code",
   "execution_count": null,
   "metadata": {
    "id": "B0LyAwftT1C_"
   },
   "outputs": [],
   "source": [
    "LOSS_FUNCTION = \"sparse_categorical_crossentropy\" # use => tf.losses.sparse_categorical_crossentropy\n",
    "OPTIMIZER = \"SGD\" # or use with custom learning rate=> tf.keras.optimizers.SGD(0.02)\n",
    "METRICS = [\"accuracy\"]\n",
    "\n",
    "model_clf.compile(loss=LOSS_FUNCTION,\n",
    "              optimizer=OPTIMIZER,\n",
    "              metrics=METRICS)\n",
    "\n"
   ]
  },
  {
   "cell_type": "markdown",
   "metadata": {
    "id": "-U2yx-_hT1DF"
   },
   "source": [
    "#### Alternatively \n",
    "```python\n",
    "model_clf.compile(loss=tf.losses.sparse_categorical_crossentropy,\n",
    "               optimizer=tf.keras.optimizers.SGD(0.02),\n",
    "               metrics=[\"accuracy\"])\n",
    "```"
   ]
  },
  {
   "cell_type": "code",
   "execution_count": null,
   "metadata": {
    "id": "wCKQ0L6QT1DG"
   },
   "outputs": [],
   "source": [
    "# 1719*30, X_train.shape, 55000/32, batch size=32 by default"
   ]
  },
  {
   "cell_type": "markdown",
   "metadata": {
    "id": "A2Y8L3i0pKvT"
   },
   "source": [
    "### Important -\n",
    "\n",
    "* **Epochs**: Integer. \n",
    "    \n",
    "    Number of epochs to train the model. An epoch is an iteration over the entire x and y data provided. \n",
    "\n",
    "* **batch_size**: Integer or None. \n",
    "    \n",
    "    Number of samples per gradient update. If unspecified, batch_size will default to 32. \n",
    "    \n",
    "    *NOTE:* Do not specify the batch_size if your data is in the form of datasets, generators, or keras.utils.Sequence instances (since they generate batches).\n",
    "\n",
    "* **validation_batch_size**: Integer or None. \n",
    "\n",
    "    Number of samples per validation batch. \n",
    "    \n",
    "    If unspecified, will default to batch_size. \n",
    "    \n",
    "    *NOTE:* Do not specify the validation_batch_size if your data is in the form of datasets, generators, or keras.utils.Sequence instances (since they generate batches).\n",
    "\n",
    "[Reference](https://www.tensorflow.org/api_docs/python/tf/keras/Model?hl=zh-tw#fit)"
   ]
  },
  {
   "cell_type": "code",
   "execution_count": null,
   "metadata": {
    "colab": {
     "base_uri": "https://localhost:8080/"
    },
    "id": "EGIFIh7UT1DK",
    "outputId": "7ee99419-993a-47d9-8282-b26ccd362c67"
   },
   "outputs": [
    {
     "name": "stdout",
     "output_type": "stream",
     "text": [
      "Epoch 1/30\n",
      "1719/1719 [==============================] - 8s 3ms/step - loss: 0.6078 - accuracy: 0.8435 - val_loss: 0.3080 - val_accuracy: 0.9140\n",
      "Epoch 2/30\n",
      "1719/1719 [==============================] - 5s 3ms/step - loss: 0.2884 - accuracy: 0.9170 - val_loss: 0.2387 - val_accuracy: 0.9330\n",
      "Epoch 3/30\n",
      "1719/1719 [==============================] - 5s 3ms/step - loss: 0.2368 - accuracy: 0.9321 - val_loss: 0.2032 - val_accuracy: 0.9420\n",
      "Epoch 4/30\n",
      "1719/1719 [==============================] - 6s 3ms/step - loss: 0.2025 - accuracy: 0.9421 - val_loss: 0.1833 - val_accuracy: 0.9504\n",
      "Epoch 5/30\n",
      "1719/1719 [==============================] - 5s 3ms/step - loss: 0.1764 - accuracy: 0.9496 - val_loss: 0.1653 - val_accuracy: 0.9542\n",
      "Epoch 6/30\n",
      "1719/1719 [==============================] - 5s 3ms/step - loss: 0.1564 - accuracy: 0.9557 - val_loss: 0.1455 - val_accuracy: 0.9610\n",
      "Epoch 7/30\n",
      "1719/1719 [==============================] - 5s 3ms/step - loss: 0.1398 - accuracy: 0.9606 - val_loss: 0.1367 - val_accuracy: 0.9618\n",
      "Epoch 8/30\n",
      "1719/1719 [==============================] - 5s 3ms/step - loss: 0.1267 - accuracy: 0.9635 - val_loss: 0.1281 - val_accuracy: 0.9658\n",
      "Epoch 9/30\n",
      "1719/1719 [==============================] - 5s 3ms/step - loss: 0.1156 - accuracy: 0.9675 - val_loss: 0.1165 - val_accuracy: 0.9684\n",
      "Epoch 10/30\n",
      "1719/1719 [==============================] - 5s 3ms/step - loss: 0.1054 - accuracy: 0.9706 - val_loss: 0.1127 - val_accuracy: 0.9700\n",
      "Epoch 11/30\n",
      "1719/1719 [==============================] - 5s 3ms/step - loss: 0.0970 - accuracy: 0.9727 - val_loss: 0.1050 - val_accuracy: 0.9722\n",
      "Epoch 12/30\n",
      "1719/1719 [==============================] - 5s 3ms/step - loss: 0.0898 - accuracy: 0.9749 - val_loss: 0.0994 - val_accuracy: 0.9730\n",
      "Epoch 13/30\n",
      "1719/1719 [==============================] - 5s 3ms/step - loss: 0.0834 - accuracy: 0.9769 - val_loss: 0.0942 - val_accuracy: 0.9720\n",
      "Epoch 14/30\n",
      "1719/1719 [==============================] - 5s 3ms/step - loss: 0.0773 - accuracy: 0.9784 - val_loss: 0.0923 - val_accuracy: 0.9730\n",
      "Epoch 15/30\n",
      "1719/1719 [==============================] - 5s 3ms/step - loss: 0.0719 - accuracy: 0.9794 - val_loss: 0.0931 - val_accuracy: 0.9728\n",
      "Epoch 16/30\n",
      "1719/1719 [==============================] - 5s 3ms/step - loss: 0.0674 - accuracy: 0.9813 - val_loss: 0.0885 - val_accuracy: 0.9752\n",
      "Epoch 17/30\n",
      "1719/1719 [==============================] - 6s 3ms/step - loss: 0.0625 - accuracy: 0.9826 - val_loss: 0.0857 - val_accuracy: 0.9748\n",
      "Epoch 18/30\n",
      "1719/1719 [==============================] - 5s 3ms/step - loss: 0.0587 - accuracy: 0.9836 - val_loss: 0.0840 - val_accuracy: 0.9750\n",
      "Epoch 19/30\n",
      "1719/1719 [==============================] - 5s 3ms/step - loss: 0.0553 - accuracy: 0.9848 - val_loss: 0.0783 - val_accuracy: 0.9772\n",
      "Epoch 20/30\n",
      "1719/1719 [==============================] - 5s 3ms/step - loss: 0.0517 - accuracy: 0.9858 - val_loss: 0.0806 - val_accuracy: 0.9774\n",
      "Epoch 21/30\n",
      "1719/1719 [==============================] - 5s 3ms/step - loss: 0.0485 - accuracy: 0.9868 - val_loss: 0.0769 - val_accuracy: 0.9774\n",
      "Epoch 22/30\n",
      "1719/1719 [==============================] - 5s 3ms/step - loss: 0.0454 - accuracy: 0.9879 - val_loss: 0.0748 - val_accuracy: 0.9772\n",
      "Epoch 23/30\n",
      "1719/1719 [==============================] - 5s 3ms/step - loss: 0.0429 - accuracy: 0.9886 - val_loss: 0.0730 - val_accuracy: 0.9794\n",
      "Epoch 24/30\n",
      "1719/1719 [==============================] - 5s 3ms/step - loss: 0.0400 - accuracy: 0.9897 - val_loss: 0.0720 - val_accuracy: 0.9798\n",
      "Epoch 25/30\n",
      "1719/1719 [==============================] - 5s 3ms/step - loss: 0.0379 - accuracy: 0.9904 - val_loss: 0.0730 - val_accuracy: 0.9784\n",
      "Epoch 26/30\n",
      "1719/1719 [==============================] - 5s 3ms/step - loss: 0.0358 - accuracy: 0.9910 - val_loss: 0.0726 - val_accuracy: 0.9790\n",
      "Epoch 27/30\n",
      "1719/1719 [==============================] - 6s 3ms/step - loss: 0.0338 - accuracy: 0.9918 - val_loss: 0.0713 - val_accuracy: 0.9806\n",
      "Epoch 28/30\n",
      "1719/1719 [==============================] - 5s 3ms/step - loss: 0.0318 - accuracy: 0.9919 - val_loss: 0.0735 - val_accuracy: 0.9792\n",
      "Epoch 29/30\n",
      "1719/1719 [==============================] - 5s 3ms/step - loss: 0.0299 - accuracy: 0.9927 - val_loss: 0.0703 - val_accuracy: 0.9792\n",
      "Epoch 30/30\n",
      "1719/1719 [==============================] - 5s 3ms/step - loss: 0.0283 - accuracy: 0.9933 - val_loss: 0.0701 - val_accuracy: 0.9812\n"
     ]
    }
   ],
   "source": [
    "EPOCHS = 30\n",
    "VALIDATION_SET = (X_valid, y_valid)\n",
    "\n",
    "history = model_clf.fit(X_train, y_train, epochs=EPOCHS,\n",
    "                    validation_data=VALIDATION_SET)\n"
   ]
  },
  {
   "cell_type": "code",
   "execution_count": null,
   "metadata": {
    "id": "DXMsCUOHT1DS"
   },
   "outputs": [],
   "source": [
    "import time\n",
    "import os\n",
    "\n",
    "def saveModel_path(model_dir=\"SAVED_MODELS\"):\n",
    "    os.makedirs(model_dir, exist_ok=True)\n",
    "    fileName = time.strftime(\"Model_%Y_%m_%d_%H_%M_%S_.h5\")    \n",
    "    model_path = os.path.join(model_dir, fileName)\n",
    "    print(f\"your model will be saved at the following location\\n{model_path}\")\n",
    "    return model_path\n"
   ]
  },
  {
   "cell_type": "code",
   "execution_count": null,
   "metadata": {
    "colab": {
     "base_uri": "https://localhost:8080/"
    },
    "id": "j5vyx4ALT1DX",
    "outputId": "b9c8140b-299d-4144-c6e0-a1d1f7f8c269"
   },
   "outputs": [
    {
     "name": "stdout",
     "output_type": "stream",
     "text": [
      "your model will be saved at the following location\n",
      "SAVED_MODELS/Model_2021_10_03_11_19_34_.h5\n"
     ]
    }
   ],
   "source": [
    "UNIQUE_PATH = model_clf.save(saveModel_path())"
   ]
  },
  {
   "cell_type": "code",
   "execution_count": null,
   "metadata": {
    "colab": {
     "base_uri": "https://localhost:8080/"
    },
    "id": "fYWSNdS9T1Dj",
    "outputId": "c04220bc-0e66-4fa9-f06c-1246523f38a6"
   },
   "outputs": [
    {
     "data": {
      "text/plain": [
       "{'epochs': 30, 'steps': 1719, 'verbose': 1}"
      ]
     },
     "execution_count": 31,
     "metadata": {},
     "output_type": "execute_result"
    }
   ],
   "source": [
    "history.params\n"
   ]
  },
  {
   "cell_type": "code",
   "execution_count": null,
   "metadata": {
    "colab": {
     "base_uri": "https://localhost:8080/",
     "height": 990
    },
    "id": "K9rtm3p2T1Do",
    "outputId": "65c6ede8-cec6-4920-a90c-5eefd4508c0b"
   },
   "outputs": [
    {
     "data": {
      "text/html": [
       "<div>\n",
       "<style scoped>\n",
       "    .dataframe tbody tr th:only-of-type {\n",
       "        vertical-align: middle;\n",
       "    }\n",
       "\n",
       "    .dataframe tbody tr th {\n",
       "        vertical-align: top;\n",
       "    }\n",
       "\n",
       "    .dataframe thead th {\n",
       "        text-align: right;\n",
       "    }\n",
       "</style>\n",
       "<table border=\"1\" class=\"dataframe\">\n",
       "  <thead>\n",
       "    <tr style=\"text-align: right;\">\n",
       "      <th></th>\n",
       "      <th>loss</th>\n",
       "      <th>accuracy</th>\n",
       "      <th>val_loss</th>\n",
       "      <th>val_accuracy</th>\n",
       "    </tr>\n",
       "  </thead>\n",
       "  <tbody>\n",
       "    <tr>\n",
       "      <th>0</th>\n",
       "      <td>0.607817</td>\n",
       "      <td>0.843473</td>\n",
       "      <td>0.307957</td>\n",
       "      <td>0.9140</td>\n",
       "    </tr>\n",
       "    <tr>\n",
       "      <th>1</th>\n",
       "      <td>0.288449</td>\n",
       "      <td>0.917036</td>\n",
       "      <td>0.238716</td>\n",
       "      <td>0.9330</td>\n",
       "    </tr>\n",
       "    <tr>\n",
       "      <th>2</th>\n",
       "      <td>0.236791</td>\n",
       "      <td>0.932145</td>\n",
       "      <td>0.203174</td>\n",
       "      <td>0.9420</td>\n",
       "    </tr>\n",
       "    <tr>\n",
       "      <th>3</th>\n",
       "      <td>0.202534</td>\n",
       "      <td>0.942091</td>\n",
       "      <td>0.183270</td>\n",
       "      <td>0.9504</td>\n",
       "    </tr>\n",
       "    <tr>\n",
       "      <th>4</th>\n",
       "      <td>0.176403</td>\n",
       "      <td>0.949618</td>\n",
       "      <td>0.165284</td>\n",
       "      <td>0.9542</td>\n",
       "    </tr>\n",
       "    <tr>\n",
       "      <th>5</th>\n",
       "      <td>0.156379</td>\n",
       "      <td>0.955745</td>\n",
       "      <td>0.145467</td>\n",
       "      <td>0.9610</td>\n",
       "    </tr>\n",
       "    <tr>\n",
       "      <th>6</th>\n",
       "      <td>0.139771</td>\n",
       "      <td>0.960564</td>\n",
       "      <td>0.136720</td>\n",
       "      <td>0.9618</td>\n",
       "    </tr>\n",
       "    <tr>\n",
       "      <th>7</th>\n",
       "      <td>0.126743</td>\n",
       "      <td>0.963455</td>\n",
       "      <td>0.128054</td>\n",
       "      <td>0.9658</td>\n",
       "    </tr>\n",
       "    <tr>\n",
       "      <th>8</th>\n",
       "      <td>0.115615</td>\n",
       "      <td>0.967473</td>\n",
       "      <td>0.116467</td>\n",
       "      <td>0.9684</td>\n",
       "    </tr>\n",
       "    <tr>\n",
       "      <th>9</th>\n",
       "      <td>0.105387</td>\n",
       "      <td>0.970636</td>\n",
       "      <td>0.112714</td>\n",
       "      <td>0.9700</td>\n",
       "    </tr>\n",
       "    <tr>\n",
       "      <th>10</th>\n",
       "      <td>0.097022</td>\n",
       "      <td>0.972709</td>\n",
       "      <td>0.104985</td>\n",
       "      <td>0.9722</td>\n",
       "    </tr>\n",
       "    <tr>\n",
       "      <th>11</th>\n",
       "      <td>0.089774</td>\n",
       "      <td>0.974927</td>\n",
       "      <td>0.099389</td>\n",
       "      <td>0.9730</td>\n",
       "    </tr>\n",
       "    <tr>\n",
       "      <th>12</th>\n",
       "      <td>0.083358</td>\n",
       "      <td>0.976945</td>\n",
       "      <td>0.094247</td>\n",
       "      <td>0.9720</td>\n",
       "    </tr>\n",
       "    <tr>\n",
       "      <th>13</th>\n",
       "      <td>0.077286</td>\n",
       "      <td>0.978436</td>\n",
       "      <td>0.092327</td>\n",
       "      <td>0.9730</td>\n",
       "    </tr>\n",
       "    <tr>\n",
       "      <th>14</th>\n",
       "      <td>0.071867</td>\n",
       "      <td>0.979418</td>\n",
       "      <td>0.093094</td>\n",
       "      <td>0.9728</td>\n",
       "    </tr>\n",
       "    <tr>\n",
       "      <th>15</th>\n",
       "      <td>0.067355</td>\n",
       "      <td>0.981327</td>\n",
       "      <td>0.088482</td>\n",
       "      <td>0.9752</td>\n",
       "    </tr>\n",
       "    <tr>\n",
       "      <th>16</th>\n",
       "      <td>0.062497</td>\n",
       "      <td>0.982636</td>\n",
       "      <td>0.085719</td>\n",
       "      <td>0.9748</td>\n",
       "    </tr>\n",
       "    <tr>\n",
       "      <th>17</th>\n",
       "      <td>0.058747</td>\n",
       "      <td>0.983564</td>\n",
       "      <td>0.083952</td>\n",
       "      <td>0.9750</td>\n",
       "    </tr>\n",
       "    <tr>\n",
       "      <th>18</th>\n",
       "      <td>0.055304</td>\n",
       "      <td>0.984836</td>\n",
       "      <td>0.078261</td>\n",
       "      <td>0.9772</td>\n",
       "    </tr>\n",
       "    <tr>\n",
       "      <th>19</th>\n",
       "      <td>0.051734</td>\n",
       "      <td>0.985800</td>\n",
       "      <td>0.080641</td>\n",
       "      <td>0.9774</td>\n",
       "    </tr>\n",
       "    <tr>\n",
       "      <th>20</th>\n",
       "      <td>0.048469</td>\n",
       "      <td>0.986764</td>\n",
       "      <td>0.076943</td>\n",
       "      <td>0.9774</td>\n",
       "    </tr>\n",
       "    <tr>\n",
       "      <th>21</th>\n",
       "      <td>0.045415</td>\n",
       "      <td>0.987945</td>\n",
       "      <td>0.074798</td>\n",
       "      <td>0.9772</td>\n",
       "    </tr>\n",
       "    <tr>\n",
       "      <th>22</th>\n",
       "      <td>0.042912</td>\n",
       "      <td>0.988600</td>\n",
       "      <td>0.073011</td>\n",
       "      <td>0.9794</td>\n",
       "    </tr>\n",
       "    <tr>\n",
       "      <th>23</th>\n",
       "      <td>0.040038</td>\n",
       "      <td>0.989727</td>\n",
       "      <td>0.072019</td>\n",
       "      <td>0.9798</td>\n",
       "    </tr>\n",
       "    <tr>\n",
       "      <th>24</th>\n",
       "      <td>0.037903</td>\n",
       "      <td>0.990436</td>\n",
       "      <td>0.073005</td>\n",
       "      <td>0.9784</td>\n",
       "    </tr>\n",
       "    <tr>\n",
       "      <th>25</th>\n",
       "      <td>0.035810</td>\n",
       "      <td>0.991018</td>\n",
       "      <td>0.072587</td>\n",
       "      <td>0.9790</td>\n",
       "    </tr>\n",
       "    <tr>\n",
       "      <th>26</th>\n",
       "      <td>0.033769</td>\n",
       "      <td>0.991818</td>\n",
       "      <td>0.071261</td>\n",
       "      <td>0.9806</td>\n",
       "    </tr>\n",
       "    <tr>\n",
       "      <th>27</th>\n",
       "      <td>0.031843</td>\n",
       "      <td>0.991891</td>\n",
       "      <td>0.073474</td>\n",
       "      <td>0.9792</td>\n",
       "    </tr>\n",
       "    <tr>\n",
       "      <th>28</th>\n",
       "      <td>0.029912</td>\n",
       "      <td>0.992745</td>\n",
       "      <td>0.070343</td>\n",
       "      <td>0.9792</td>\n",
       "    </tr>\n",
       "    <tr>\n",
       "      <th>29</th>\n",
       "      <td>0.028302</td>\n",
       "      <td>0.993327</td>\n",
       "      <td>0.070147</td>\n",
       "      <td>0.9812</td>\n",
       "    </tr>\n",
       "  </tbody>\n",
       "</table>\n",
       "</div>"
      ],
      "text/plain": [
       "        loss  accuracy  val_loss  val_accuracy\n",
       "0   0.607817  0.843473  0.307957        0.9140\n",
       "1   0.288449  0.917036  0.238716        0.9330\n",
       "2   0.236791  0.932145  0.203174        0.9420\n",
       "3   0.202534  0.942091  0.183270        0.9504\n",
       "4   0.176403  0.949618  0.165284        0.9542\n",
       "5   0.156379  0.955745  0.145467        0.9610\n",
       "6   0.139771  0.960564  0.136720        0.9618\n",
       "7   0.126743  0.963455  0.128054        0.9658\n",
       "8   0.115615  0.967473  0.116467        0.9684\n",
       "9   0.105387  0.970636  0.112714        0.9700\n",
       "10  0.097022  0.972709  0.104985        0.9722\n",
       "11  0.089774  0.974927  0.099389        0.9730\n",
       "12  0.083358  0.976945  0.094247        0.9720\n",
       "13  0.077286  0.978436  0.092327        0.9730\n",
       "14  0.071867  0.979418  0.093094        0.9728\n",
       "15  0.067355  0.981327  0.088482        0.9752\n",
       "16  0.062497  0.982636  0.085719        0.9748\n",
       "17  0.058747  0.983564  0.083952        0.9750\n",
       "18  0.055304  0.984836  0.078261        0.9772\n",
       "19  0.051734  0.985800  0.080641        0.9774\n",
       "20  0.048469  0.986764  0.076943        0.9774\n",
       "21  0.045415  0.987945  0.074798        0.9772\n",
       "22  0.042912  0.988600  0.073011        0.9794\n",
       "23  0.040038  0.989727  0.072019        0.9798\n",
       "24  0.037903  0.990436  0.073005        0.9784\n",
       "25  0.035810  0.991018  0.072587        0.9790\n",
       "26  0.033769  0.991818  0.071261        0.9806\n",
       "27  0.031843  0.991891  0.073474        0.9792\n",
       "28  0.029912  0.992745  0.070343        0.9792\n",
       "29  0.028302  0.993327  0.070147        0.9812"
      ]
     },
     "execution_count": 32,
     "metadata": {},
     "output_type": "execute_result"
    }
   ],
   "source": [
    "pd.DataFrame(history.history)"
   ]
  },
  {
   "cell_type": "code",
   "execution_count": null,
   "metadata": {
    "colab": {
     "base_uri": "https://localhost:8080/",
     "height": 324
    },
    "id": "P6nerhjCT1Ds",
    "outputId": "7512a66c-dde5-44f8-9b15-e08dd462215a"
   },
   "outputs": [
    {
     "data": {
      "image/png": "[encoded data removed]",
      "text/plain": [
       "<Figure size 576x360 with 1 Axes>"
      ]
     },
     "metadata": {
      "needs_background": "light"
     },
     "output_type": "display_data"
    }
   ],
   "source": [
    "pd.DataFrame(history.history).plot(figsize=(8, 5))\n",
    "plt.grid(True)\n",
    "plt.gca().set_ylim(0, 1)\n",
    "plt.show()"
   ]
  },
  {
   "cell_type": "code",
   "execution_count": null,
   "metadata": {
    "colab": {
     "base_uri": "https://localhost:8080/"
    },
    "id": "TON0RxLNT1Dw",
    "outputId": "8c05f627-0da8-4022-9abd-f8e2b72cc29e"
   },
   "outputs": [
    {
     "name": "stdout",
     "output_type": "stream",
     "text": [
      "313/313 [==============================] - 1s 3ms/step - loss: 0.0681 - accuracy: 0.9781\n"
     ]
    },
    {
     "data": {
      "text/plain": [
       "[0.06814347207546234, 0.9781000018119812]"
      ]
     },
     "execution_count": 34,
     "metadata": {},
     "output_type": "execute_result"
    }
   ],
   "source": [
    "model_clf.evaluate(X_test, y_test)"
   ]
  },
  {
   "cell_type": "code",
   "execution_count": null,
   "metadata": {
    "colab": {
     "base_uri": "https://localhost:8080/"
    },
    "id": "JRJ8ciK0T1D1",
    "outputId": "141d2146-039a-46c9-e25f-5f676d6a8b84"
   },
   "outputs": [
    {
     "data": {
      "text/plain": [
       "array([[0., 0., 0., 0., 0., 0., 0., 1., 0., 0.],\n",
       "       [0., 0., 1., 0., 0., 0., 0., 0., 0., 0.],\n",
       "       [0., 1., 0., 0., 0., 0., 0., 0., 0., 0.]], dtype=float32)"
      ]
     },
     "execution_count": 35,
     "metadata": {},
     "output_type": "execute_result"
    }
   ],
   "source": [
    "X_new = X_test[:3]\n",
    "y_proba = model_clf.predict(X_new)\n",
    "y_proba.round(2)"
   ]
  },
  {
   "cell_type": "code",
   "execution_count": null,
   "metadata": {
    "colab": {
     "base_uri": "https://localhost:8080/"
    },
    "id": "ofk-RtanT1D5",
    "outputId": "bd5bdcf3-076a-4ca2-bd45-f180a8546c95"
   },
   "outputs": [
    {
     "data": {
      "text/plain": [
       "array([7, 2, 1])"
      ]
     },
     "execution_count": 36,
     "metadata": {},
     "output_type": "execute_result"
    }
   ],
   "source": [
    "y_pred = np.argmax(model_clf.predict(X_new), axis=-1)\n",
    "y_pred"
   ]
  },
  {
   "cell_type": "code",
   "execution_count": null,
   "metadata": {
    "id": "NzDbztGcT1D-"
   },
   "outputs": [],
   "source": [
    "y_test_new = y_test[:3]"
   ]
  },
  {
   "cell_type": "code",
   "execution_count": null,
   "metadata": {
    "colab": {
     "base_uri": "https://localhost:8080/",
     "height": 810
    },
    "id": "ie5Kz7BBT1EC",
    "outputId": "b3d16395-8bb5-49db-dd26-bb27c8b24354"
   },
   "outputs": [
    {
     "data": {
      "image/png": "[encoded data removed]",
      "text/plain": [
       "<Figure size 432x288 with 1 Axes>"
      ]
     },
     "metadata": {
      "needs_background": "light"
     },
     "output_type": "display_data"
    },
    {
     "name": "stdout",
     "output_type": "stream",
     "text": [
      "------------------------------------------------------------\n"
     ]
    },
    {
     "data": {
      "image/png": "[encoded data removed]",
      "text/plain": [
       "<Figure size 432x288 with 1 Axes>"
      ]
     },
     "metadata": {
      "needs_background": "light"
     },
     "output_type": "display_data"
    },
    {
     "name": "stdout",
     "output_type": "stream",
     "text": [
      "------------------------------------------------------------\n"
     ]
    },
    {
     "data": {
      "image/png": "[encoded data removed]",
      "text/plain": [
       "<Figure size 432x288 with 1 Axes>"
      ]
     },
     "metadata": {
      "needs_background": "light"
     },
     "output_type": "display_data"
    },
    {
     "name": "stdout",
     "output_type": "stream",
     "text": [
      "------------------------------------------------------------\n"
     ]
    }
   ],
   "source": [
    "for data, pred, actual in zip(X_new, y_pred, y_test_new):\n",
    "    plt.imshow(data, cmap=\"binary\")\n",
    "    plt.title(f\"Predicted: {pred}, Actual: {actual}\")\n",
    "    plt.axis('off')\n",
    "    plt.show()\n",
    "    print(\"---\"*20)"
   ]
  },
  {
   "cell_type": "markdown",
   "metadata": {
    "id": "qOIt8yhXT1EM"
   },
   "source": [
    "<iframe src=\"https://slides.com/supremecommander/basic-neural-network/embed\" width=\"576\" height=\"420\" scrolling=\"no\" frameborder=\"0\" webkitallowfullscreen mozallowfullscreen allowfullscreen></iframe>"
   ]
  },
  {
   "cell_type": "markdown",
   "metadata": {
    "id": "kfSJUWAST1ER"
   },
   "source": [
    "<iframe src=\"https://slides.com/supremecommander/basic-neural-network/embed\" width=\"576\" height=\"420\" scrolling=\"no\" frameborder=\"0\" webkitallowfullscreen mozallowfullscreen allowfullscreen></iframe>"
   ]
  }
 ],
 "metadata": {
  "accelerator": "GPU",
  "colab": {
   "collapsed_sections": [
    "VQPHM-DwT1B9",
    "3WlLdDzET1B-"
   ],
   "provenance": []
  },
  "kernelspec": {
   "display_name": "Python 3 (ipykernel)",
   "language": "python",
   "name": "python3"
  },
  "language_info": {
   "codemirror_mode": {
    "name": "ipython",
    "version": 3
   },
   "file_extension": ".py",
   "mimetype": "text/x-python",
   "name": "python",
   "nbconvert_exporter": "python",
   "pygments_lexer": "ipython3",
   "version": "3.10.6"
  }
 },
 "nbformat": 4,
 "nbformat_minor": 1
}
